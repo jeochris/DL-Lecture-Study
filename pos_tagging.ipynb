{
  "nbformat": 4,
  "nbformat_minor": 0,
  "metadata": {
    "anaconda-cloud": {},
    "kernelspec": {
      "display_name": "Python 3",
      "language": "python",
      "name": "python3"
    },
    "language_info": {
      "codemirror_mode": {
        "name": "ipython",
        "version": 3
      },
      "file_extension": ".py",
      "mimetype": "text/x-python",
      "name": "python",
      "nbconvert_exporter": "python",
      "pygments_lexer": "ipython3",
      "version": "3.8.5"
    },
    "colab": {
      "name": "pos_tagging.ipynb",
      "provenance": [],
      "include_colab_link": true
    }
  },
  "cells": [
    {
      "cell_type": "markdown",
      "metadata": {
        "id": "view-in-github",
        "colab_type": "text"
      },
      "source": [
        "<a href=\"https://colab.research.google.com/github/jeochris/DL-Lecture-Study/blob/main/pos_tagging.ipynb\" target=\"_parent\"><img src=\"https://colab.research.google.com/assets/colab-badge.svg\" alt=\"Open In Colab\"/></a>"
      ]
    },
    {
      "cell_type": "markdown",
      "metadata": {
        "id": "6YtTyKcx6u0R"
      },
      "source": [
        "# <font color='#6629b2'>Part-of-speech tagging with recurrent neural networks using Keras</font>\n",
        "### https://github.com/roemmele/keras-rnn-notebooks\n",
        "by Melissa Roemmele, 10/23/17, roemmele @ ict.usc.edu\n",
        "\n",
        "## <font color='#6629b2'>Overview</font>\n",
        "\n",
        "I am going to show how to use the Keras library to build a recurrent neural network (RNN) model that labels part-of-speech (POS) tags for words in sentences. \n",
        "\n",
        "### <font color='#6629b2'>Part-of-speech (POS) tagging</font>\n",
        "\n",
        "A part-of-speech tag is the syntactic category associated with a particular word in a sentence, such as a noun, verb, preposition, determiner, adjective or adverb. Part-of-speech tagging is a fundamental task in natural language processing; see the [chapter in Juraksky & Martin's *Speech and Language Processing*](https://web.stanford.edu/~jurafsky/slp3/10.pdf) for more background. POS tagging is a common pre-processing step in many NLP pipelines. For example, words with certain POS tags are more important than other words for capturing the content of a text (e.g. nouns and verbs carry more semantic meaning than grammatical words like prepositions and determiners), so models often take this into account when predicting the topic, sentiment, or some other categorical dimensions of a text. Start-of-the art models are quite successful, reaching near-perfect accuracy in the tags assigned to words. This notebook will show how to put together a simple tagger that uses a Recurrent Neural Network, though it does not perform as well as more advanced models.\n",
        "\n",
        "### <font color='#6629b2'>Recurrent Neural Networks (RNNs)</font>\n",
        "\n",
        "RNNs are a general framework for modeling sequence data and are particularly useful for natural language processing tasks. At a high level, RNN encode sequences via a set of parameters (weights) that are optimized to predict some output variable. This notebook demonstrates the code needed to assemble an RNN model using the Keras library, as well as some data processing tools that facilitate building the model. \n",
        "\n",
        "If you understand how to structure the input and output of the model, and know the fundamental concepts in machine learning, then a high-level understanding of how an RNN works is sufficient for using Keras. You'll see that most of the code here is actually just data manipulation, and I'll visualize each step in this process. The code used to assemble the RNN itself is more minimal. It is of course useful to know the technical details of the RNN, so you can theorize on the results and innovate the model to make it better. For a better understanding of RNNs and neural networks in general, see the resources at the bottom of the notebook.\n",
        "\n",
        "Here an RNN will be used to encode a sentence and assign a POS tag to each word. The model shown here is applicable to any dataset with a one-to-one mapping between the inputs and outputs. This involves any task where for each sequential unit (here, a word), there is some output unit (here, a POS tag) that should be assigned to that input unit.\n",
        "\n",
        "### <font color='#6629b2'>Keras</font>\n",
        "\n",
        "[Keras](https://keras.io/) is a Python deep learning framework that lets you quickly put together neural network models with a minimal amount of code. It can be run on top of the mathematical optimization libraries [Theano](http://deeplearning.net/software/theano/) or [Tensor Flow](https://www.tensorflow.org/) without you needing to know either of these underlying frameworks. It provides implementations of several of the layer architectures, objective functions, and optimization algorithms you need for building a model."
      ]
    },
    {
      "cell_type": "markdown",
      "metadata": {
        "id": "4p-CzNlN6u0W"
      },
      "source": [
        "## <font color='#6629b2'>Dataset</font>\n",
        "\n",
        "The [Brown Corpus](http://www.hit.uib.no/icame/brown/bcm.html) (download through NLTK [here](http://www.nltk.org/nltk_data/)) is a popular NLP resource that consists of 500 texts from a variety of sources, including news reports, academic essays, and fiction. Every word in the texts has been annotated with a POS tag. There are different POS annotation schemes provided in the corpus, which differ in the number of tags assigned. Here I use coarse-grained tags, of which there are eleven unique tags (for example, some schemes might split up the coarse-grained \"VERB\" tag into fine-grained tags based on the specific tense of the verb). I set up the dataset so that each entry is a single sentence. The code below loads a sample of 100 sentences from the corpus, so see the above link to get the full dataset."
      ]
    },
    {
      "cell_type": "code",
      "metadata": {
        "id": "6QtcWaQn6u0X"
      },
      "source": [
        "from __future__ import print_function #Python 2/3 compatibility for print statements\n",
        "import pandas\n",
        "pandas.set_option('display.max_colwidth', 170) #widen pandas rows display"
      ],
      "execution_count": 25,
      "outputs": []
    },
    {
      "cell_type": "markdown",
      "metadata": {
        "id": "YkU_ZK0l6u0Y"
      },
      "source": [
        "I'll load the datasets using the [pandas library](https://pandas.pydata.org/), which is extremely useful for any task involving data storage and manipulation. This library puts a dataset into a readable table format, and makes it easy to retrieve specific columns and rows."
      ]
    },
    {
      "cell_type": "code",
      "metadata": {
        "colab": {
          "resources": {
            "http://localhost:8080/nbextensions/google.colab/files.js": {
              "data": "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",
              "ok": true,
              "headers": [
                [
                  "content-type",
                  "application/javascript"
                ]
              ],
              "status": 200,
              "status_text": ""
            }
          },
          "base_uri": "https://localhost:8080/",
          "height": 571
        },
        "id": "Xf0aEp4l6u0Z",
        "outputId": "4672322b-46e9-4485-dc89-720aa0df3618"
      },
      "source": [
        "'''Load the dataset'''\n",
        "\n",
        "from google.colab import files\n",
        "uploaded_train = files.upload()\n",
        "\n",
        "# training data set\n",
        "train_sents = pandas.read_csv('example_train_brown_corpus.csv', encoding='utf-8')\n",
        "\n",
        "#Get the word tokens and tags into a readable list format\n",
        "train_sents['Tokenized_Sentence'] = train_sents['Tokenized_Sentence'].apply(lambda sent: sent.lower().split(\"\\t\"))\n",
        "train_sents['Tagged_Sentence'] = train_sents['Tagged_Sentence'].apply(lambda sent: sent.split(\"\\t\"))\n",
        "\n",
        "train_sents[:10]"
      ],
      "execution_count": 26,
      "outputs": [
        {
          "output_type": "display_data",
          "data": {
            "text/html": [
              "\n",
              "     <input type=\"file\" id=\"files-fa942a05-53e0-4d1c-9793-8689b1ccd039\" name=\"files[]\" multiple disabled\n",
              "        style=\"border:none\" />\n",
              "     <output id=\"result-fa942a05-53e0-4d1c-9793-8689b1ccd039\">\n",
              "      Upload widget is only available when the cell has been executed in the\n",
              "      current browser session. Please rerun this cell to enable.\n",
              "      </output>\n",
              "      <script src=\"/nbextensions/google.colab/files.js\"></script> "
            ],
            "text/plain": [
              "<IPython.core.display.HTML object>"
            ]
          },
          "metadata": {}
        },
        {
          "output_type": "stream",
          "name": "stdout",
          "text": [
            "Saving example_train_brown_corpus.csv to example_train_brown_corpus (2).csv\n"
          ]
        },
        {
          "output_type": "execute_result",
          "data": {
            "text/html": [
              "<div>\n",
              "<style scoped>\n",
              "    .dataframe tbody tr th:only-of-type {\n",
              "        vertical-align: middle;\n",
              "    }\n",
              "\n",
              "    .dataframe tbody tr th {\n",
              "        vertical-align: top;\n",
              "    }\n",
              "\n",
              "    .dataframe thead th {\n",
              "        text-align: right;\n",
              "    }\n",
              "</style>\n",
              "<table border=\"1\" class=\"dataframe\">\n",
              "  <thead>\n",
              "    <tr style=\"text-align: right;\">\n",
              "      <th></th>\n",
              "      <th>Tokenized_Sentence</th>\n",
              "      <th>Tagged_Sentence</th>\n",
              "    </tr>\n",
              "  </thead>\n",
              "  <tbody>\n",
              "    <tr>\n",
              "      <th>0</th>\n",
              "      <td>[the, fulton, county, grand, jury, said, friday, an, investigation, of, atlanta's, recent, primary, election, produced, ``, no, evidence, '', that, any, irregularitie...</td>\n",
              "      <td>[DET, NOUN, NOUN, ADJ, NOUN, VERB, NOUN, DET, NOUN, ADP, NOUN, ADJ, NOUN, NOUN, VERB, ., DET, NOUN, ., ADP, DET, NOUN, VERB, NOUN, .]</td>\n",
              "    </tr>\n",
              "    <tr>\n",
              "      <th>1</th>\n",
              "      <td>[the, jury, further, said, in, term-end, presentments, that, the, city, executive, committee, ,, which, had, over-all, charge, of, the, election, ,, ``, deserves, the...</td>\n",
              "      <td>[DET, NOUN, ADV, VERB, ADP, NOUN, NOUN, ADP, DET, NOUN, ADJ, NOUN, ., DET, VERB, ADJ, NOUN, ADP, DET, NOUN, ., ., VERB, DET, NOUN, CONJ, NOUN, ADP, DET, NOUN, ADP, NO...</td>\n",
              "    </tr>\n",
              "    <tr>\n",
              "      <th>2</th>\n",
              "      <td>[the, september-october, term, jury, had, been, charged, by, fulton, superior, court, judge, durwood, pye, to, investigate, reports, of, possible, ``, irregularities,...</td>\n",
              "      <td>[DET, NOUN, NOUN, NOUN, VERB, VERB, VERB, ADP, NOUN, ADJ, NOUN, NOUN, NOUN, NOUN, PRT, VERB, NOUN, ADP, ADJ, ., NOUN, ., ADP, DET, ADJ, NOUN, DET, VERB, VERB, ADP, NO...</td>\n",
              "    </tr>\n",
              "    <tr>\n",
              "      <th>3</th>\n",
              "      <td>[``, only, a, relative, handful, of, such, reports, was, received, '', ,, the, jury, said, ,, ``, considering, the, widespread, interest, in, the, election, ,, the, n...</td>\n",
              "      <td>[., ADV, DET, ADJ, NOUN, ADP, ADJ, NOUN, VERB, VERB, ., ., DET, NOUN, VERB, ., ., ADP, DET, ADJ, NOUN, ADP, DET, NOUN, ., DET, NOUN, ADP, NOUN, CONJ, DET, NOUN, ADP, ...</td>\n",
              "    </tr>\n",
              "    <tr>\n",
              "      <th>4</th>\n",
              "      <td>[the, jury, said, it, did, find, that, many, of, georgia's, registration, and, election, laws, ``, are, outmoded, or, inadequate, and, often, ambiguous, '', .]</td>\n",
              "      <td>[DET, NOUN, VERB, PRON, VERB, VERB, ADP, ADJ, ADP, NOUN, NOUN, CONJ, NOUN, NOUN, ., VERB, ADJ, CONJ, ADJ, CONJ, ADV, ADJ, ., .]</td>\n",
              "    </tr>\n",
              "    <tr>\n",
              "      <th>5</th>\n",
              "      <td>[it, recommended, that, fulton, legislators, act, ``, to, have, these, laws, studied, and, revised, to, the, end, of, modernizing, and, improving, them, '', .]</td>\n",
              "      <td>[PRON, VERB, ADP, NOUN, NOUN, VERB, ., PRT, VERB, DET, NOUN, VERB, CONJ, VERB, ADP, DET, NOUN, ADP, VERB, CONJ, VERB, PRON, ., .]</td>\n",
              "    </tr>\n",
              "    <tr>\n",
              "      <th>6</th>\n",
              "      <td>[the, grand, jury, commented, on, a, number, of, other, topics, ,, among, them, the, atlanta, and, fulton, county, purchasing, departments, which, it, said, ``, are, ...</td>\n",
              "      <td>[DET, ADJ, NOUN, VERB, ADP, DET, NOUN, ADP, ADJ, NOUN, ., ADP, PRON, DET, NOUN, CONJ, NOUN, NOUN, VERB, NOUN, DET, PRON, VERB, ., VERB, ADV, VERB, CONJ, VERB, ADV, VE...</td>\n",
              "    </tr>\n",
              "    <tr>\n",
              "      <th>7</th>\n",
              "      <td>[merger, proposed]</td>\n",
              "      <td>[NOUN, VERB]</td>\n",
              "    </tr>\n",
              "    <tr>\n",
              "      <th>8</th>\n",
              "      <td>[however, ,, the, jury, said, it, believes, ``, these, two, offices, should, be, combined, to, achieve, greater, efficiency, and, reduce, the, cost, of, administratio...</td>\n",
              "      <td>[ADV, ., DET, NOUN, VERB, PRON, VERB, ., DET, NUM, NOUN, VERB, VERB, VERB, PRT, VERB, ADJ, NOUN, CONJ, VERB, DET, NOUN, ADP, NOUN, ., .]</td>\n",
              "    </tr>\n",
              "    <tr>\n",
              "      <th>9</th>\n",
              "      <td>[the, city, purchasing, department, ,, the, jury, said, ,, ``, is, lacking, in, experienced, clerical, personnel, as, a, result, of, city, personnel, policies, '', .]</td>\n",
              "      <td>[DET, NOUN, VERB, NOUN, ., DET, NOUN, VERB, ., ., VERB, VERB, ADP, VERB, ADJ, NOUN, ADP, DET, NOUN, ADP, NOUN, NOUN, NOUN, ., .]</td>\n",
              "    </tr>\n",
              "  </tbody>\n",
              "</table>\n",
              "</div>"
            ],
            "text/plain": [
              "                                                                                                                                                          Tokenized_Sentence                                                                                                                                                            Tagged_Sentence\n",
              "0  [the, fulton, county, grand, jury, said, friday, an, investigation, of, atlanta's, recent, primary, election, produced, ``, no, evidence, '', that, any, irregularitie...                                      [DET, NOUN, NOUN, ADJ, NOUN, VERB, NOUN, DET, NOUN, ADP, NOUN, ADJ, NOUN, NOUN, VERB, ., DET, NOUN, ., ADP, DET, NOUN, VERB, NOUN, .]\n",
              "1  [the, jury, further, said, in, term-end, presentments, that, the, city, executive, committee, ,, which, had, over-all, charge, of, the, election, ,, ``, deserves, the...  [DET, NOUN, ADV, VERB, ADP, NOUN, NOUN, ADP, DET, NOUN, ADJ, NOUN, ., DET, VERB, ADJ, NOUN, ADP, DET, NOUN, ., ., VERB, DET, NOUN, CONJ, NOUN, ADP, DET, NOUN, ADP, NO...\n",
              "2  [the, september-october, term, jury, had, been, charged, by, fulton, superior, court, judge, durwood, pye, to, investigate, reports, of, possible, ``, irregularities,...  [DET, NOUN, NOUN, NOUN, VERB, VERB, VERB, ADP, NOUN, ADJ, NOUN, NOUN, NOUN, NOUN, PRT, VERB, NOUN, ADP, ADJ, ., NOUN, ., ADP, DET, ADJ, NOUN, DET, VERB, VERB, ADP, NO...\n",
              "3  [``, only, a, relative, handful, of, such, reports, was, received, '', ,, the, jury, said, ,, ``, considering, the, widespread, interest, in, the, election, ,, the, n...  [., ADV, DET, ADJ, NOUN, ADP, ADJ, NOUN, VERB, VERB, ., ., DET, NOUN, VERB, ., ., ADP, DET, ADJ, NOUN, ADP, DET, NOUN, ., DET, NOUN, ADP, NOUN, CONJ, DET, NOUN, ADP, ...\n",
              "4            [the, jury, said, it, did, find, that, many, of, georgia's, registration, and, election, laws, ``, are, outmoded, or, inadequate, and, often, ambiguous, '', .]                                            [DET, NOUN, VERB, PRON, VERB, VERB, ADP, ADJ, ADP, NOUN, NOUN, CONJ, NOUN, NOUN, ., VERB, ADJ, CONJ, ADJ, CONJ, ADV, ADJ, ., .]\n",
              "5            [it, recommended, that, fulton, legislators, act, ``, to, have, these, laws, studied, and, revised, to, the, end, of, modernizing, and, improving, them, '', .]                                          [PRON, VERB, ADP, NOUN, NOUN, VERB, ., PRT, VERB, DET, NOUN, VERB, CONJ, VERB, ADP, DET, NOUN, ADP, VERB, CONJ, VERB, PRON, ., .]\n",
              "6  [the, grand, jury, commented, on, a, number, of, other, topics, ,, among, them, the, atlanta, and, fulton, county, purchasing, departments, which, it, said, ``, are, ...  [DET, ADJ, NOUN, VERB, ADP, DET, NOUN, ADP, ADJ, NOUN, ., ADP, PRON, DET, NOUN, CONJ, NOUN, NOUN, VERB, NOUN, DET, PRON, VERB, ., VERB, ADV, VERB, CONJ, VERB, ADV, VE...\n",
              "7                                                                                                                                                         [merger, proposed]                                                                                                                                                               [NOUN, VERB]\n",
              "8  [however, ,, the, jury, said, it, believes, ``, these, two, offices, should, be, combined, to, achieve, greater, efficiency, and, reduce, the, cost, of, administratio...                                   [ADV, ., DET, NOUN, VERB, PRON, VERB, ., DET, NUM, NOUN, VERB, VERB, VERB, PRT, VERB, ADJ, NOUN, CONJ, VERB, DET, NOUN, ADP, NOUN, ., .]\n",
              "9     [the, city, purchasing, department, ,, the, jury, said, ,, ``, is, lacking, in, experienced, clerical, personnel, as, a, result, of, city, personnel, policies, '', .]                                           [DET, NOUN, VERB, NOUN, ., DET, NOUN, VERB, ., ., VERB, VERB, ADP, VERB, ADJ, NOUN, ADP, DET, NOUN, ADP, NOUN, NOUN, NOUN, ., .]"
            ]
          },
          "metadata": {},
          "execution_count": 26
        }
      ]
    },
    {
      "cell_type": "markdown",
      "metadata": {
        "id": "9GP8BYXn6u0a"
      },
      "source": [
        "## <font color='#6629b2'>Preparing the data</font>\n",
        "\n",
        "**The sentences have already been tokenized into words, so both the words in each sentence and the corresponding tags are represented as lists.**\n",
        "\n",
        "###  <font color='#6629b2'>Lexicons</font>\n",
        "\n",
        "We need to assemble lexicons for both the words and tags. The term \"lexicon\" usually refers specifically to the words in a model, but here I use it generally to mean a mapping between strings and numerical indices, which applies to the POS tags as well (I'll distinguish between the \"words lexicon\" and \"tags lexicon\"). Each word/tag is assigned a numerical index that can be read by the model. For the words lexicon, since large datasets may contain a huge number of unique words, it's common to filter all words occurring less than a certain number of times and replace them with some generic &lt;UNK&gt; token. The min_freq parameter in the function below defines this threshold. For the tags, we'll include all of them in the model since these are the output classes we are trying to predict. There are only 11 tags in this dataset. An &lt;UNK&gt; tag is included, even though it doesn't actually appear in the dataset; this isn't a problem, because the model will learn not to predict it."
      ]
    },
    {
      "cell_type": "code",
      "metadata": {
        "colab": {
          "resources": {
            "http://localhost:8080/nbextensions/google.colab/files.js": {
              "data": "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",
              "ok": true,
              "headers": [
                [
                  "content-type",
                  "application/javascript"
                ]
              ],
              "status": 200,
              "status_text": ""
            }
          },
          "base_uri": "https://localhost:8080/",
          "height": 239
        },
        "id": "ytI9jLRJ6u0b",
        "outputId": "eee9c419-1a81-44a7-9948-bf5a5ddbc5e1"
      },
      "source": [
        "'''<Create a lexicon for the words in the sentences as well as the tags>'''\n",
        "\n",
        "import pickle\n",
        "\n",
        "# funtion to count how often each word appears in 'token_seqs'\n",
        "def make_lexicon(token_seqs, min_freq=1):\n",
        "    # First, count how often each word appears in the text.\n",
        "    token_counts = {}\n",
        "    for seq in token_seqs:\n",
        "        for token in seq:\n",
        "            if token in token_counts:\n",
        "                token_counts[token] += 1\n",
        "            else:\n",
        "                token_counts[token] = 1\n",
        "\n",
        "    # Then, assign each word to a numerical index\n",
        "    # Filter words that occur less than min_freq times.\n",
        "    lexicon = [token for token, count in token_counts.items() if count >= min_freq]\n",
        "\n",
        "    # Indices start at 2 (~N). 0 is reserved for padding, and 1 is reserved for unknown words.\n",
        "    lexicon = {token:idx + 2 for idx,token in enumerate(lexicon)}\n",
        "    lexicon[u'<UNK>'] = 1 # Unknown words are those that occur fewer than min_freq times\n",
        "    lexicon_size = len(lexicon)\n",
        "\n",
        "    print(\"LEXICON SAMPLE ({} total items):\".format(len(lexicon)))\n",
        "    print(dict(list(lexicon.items())[:20]))\n",
        "    \n",
        "    return lexicon\n",
        "\n",
        "uploaded_train = files.upload()\n",
        "\n",
        "# with function above, convert words and tags into numerical value, lexicon\n",
        "print(\"WORDS:\")\n",
        "words_lexicon = make_lexicon(train_sents['Tokenized_Sentence'])\n",
        "with open('words_lexicon.pkl', 'wb') as f: #save the tags lexicon by pickling it\n",
        "    pickle.dump(words_lexicon, f)\n",
        "\n",
        "print(\"TAGS:\")\n",
        "tags_lexicon = make_lexicon(train_sents['Tagged_Sentence'])\n",
        "with open('tags_lexicon.pkl', 'wb') as f: #save the words lexicon by pickling it\n",
        "    pickle.dump(tags_lexicon, f)\n",
        "\n",
        "# note that'2' from words and tags have different meanings each other\n",
        "# there are 812 types of words"
      ],
      "execution_count": 27,
      "outputs": [
        {
          "output_type": "display_data",
          "data": {
            "text/html": [
              "\n",
              "     <input type=\"file\" id=\"files-bfdaf570-89ff-47d6-9270-dea6218b7d9e\" name=\"files[]\" multiple disabled\n",
              "        style=\"border:none\" />\n",
              "     <output id=\"result-bfdaf570-89ff-47d6-9270-dea6218b7d9e\">\n",
              "      Upload widget is only available when the cell has been executed in the\n",
              "      current browser session. Please rerun this cell to enable.\n",
              "      </output>\n",
              "      <script src=\"/nbextensions/google.colab/files.js\"></script> "
            ],
            "text/plain": [
              "<IPython.core.display.HTML object>"
            ]
          },
          "metadata": {}
        },
        {
          "output_type": "stream",
          "name": "stdout",
          "text": [
            "Saving tags_lexicon.pkl to tags_lexicon (3).pkl\n",
            "Saving words_lexicon.pkl to words_lexicon (3).pkl\n",
            "WORDS:\n",
            "LEXICON SAMPLE (812 total items):\n",
            "{'the': 2, 'fulton': 3, 'county': 4, 'grand': 5, 'jury': 6, 'said': 7, 'friday': 8, 'an': 9, 'investigation': 10, 'of': 11, \"atlanta's\": 12, 'recent': 13, 'primary': 14, 'election': 15, 'produced': 16, '``': 17, 'no': 18, 'evidence': 19, \"''\": 20, 'that': 21}\n",
            "TAGS:\n",
            "LEXICON SAMPLE (12 total items):\n",
            "{'DET': 2, 'NOUN': 3, 'ADJ': 4, 'VERB': 5, 'ADP': 6, '.': 7, 'ADV': 8, 'CONJ': 9, 'PRT': 10, 'PRON': 11, 'NUM': 12, '<UNK>': 1}\n"
          ]
        }
      ]
    },
    {
      "cell_type": "markdown",
      "metadata": {
        "id": "K1-zp4zq6u0c"
      },
      "source": [
        "Because the model will output tags as indices, we'll obviously need to map each tag number back to its corresponding string representation in order to later interpret the output. We'll reverse the tags lexicon to create a lookup table to get each tag from its index."
      ]
    },
    {
      "cell_type": "code",
      "metadata": {
        "colab": {
          "base_uri": "https://localhost:8080/"
        },
        "id": "uk1mYfHG6u0c",
        "outputId": "1a304d08-3af4-414a-90ee-147ffd5852f6"
      },
      "source": [
        "'''Make a dictionary where the string representation of a lexicon item can be retrieved from its numerical index'''\n",
        "\n",
        "# tag에서 반대로 2를 보고 DET임을 유추할수 있도록!\n",
        "\n",
        "def get_lexicon_lookup(lexicon):\n",
        "    lexicon_lookup = {idx: lexicon_item for lexicon_item, idx in lexicon.items()}\n",
        "    print(\"LEXICON LOOKUP SAMPLE:\")\n",
        "    print(dict(list(lexicon_lookup.items())[:20]))\n",
        "    return lexicon_lookup\n",
        "\n",
        "tags_lexicon_lookup = get_lexicon_lookup(tags_lexicon)"
      ],
      "execution_count": 28,
      "outputs": [
        {
          "output_type": "stream",
          "name": "stdout",
          "text": [
            "LEXICON LOOKUP SAMPLE:\n",
            "{2: 'DET', 3: 'NOUN', 4: 'ADJ', 5: 'VERB', 6: 'ADP', 7: '.', 8: 'ADV', 9: 'CONJ', 10: 'PRT', 11: 'PRON', 12: 'NUM', 1: '<UNK>'}\n"
          ]
        }
      ]
    },
    {
      "cell_type": "markdown",
      "metadata": {
        "id": "j-Mx-uDC6u0d"
      },
      "source": [
        "###  <font color='#6629b2'>From strings to numbers</font>\n",
        "\n",
        "We use the lexicons to transform the word and tag sequences into lists of numerical indices."
      ]
    },
    {
      "cell_type": "code",
      "metadata": {
        "colab": {
          "base_uri": "https://localhost:8080/",
          "height": 665
        },
        "id": "4t38rJYX6u0e",
        "outputId": "717b0661-8ef2-405d-dafc-1a9bbdb4101a"
      },
      "source": [
        "def tokens_to_idxs(token_seqs, lexicon):\n",
        "    idx_seqs = [[lexicon[token] if token in lexicon else lexicon['<UNK>'] for token in token_seq]  \n",
        "                                                                     for token_seq in token_seqs]\n",
        "    return idx_seqs\n",
        "\n",
        "train_sents['Sentence_Idxs'] = tokens_to_idxs(train_sents['Tokenized_Sentence'], words_lexicon)\n",
        "train_sents['Tag_Idxs'] = tokens_to_idxs(train_sents['Tagged_Sentence'], tags_lexicon)\n",
        "train_sents[['Tokenized_Sentence', 'Sentence_Idxs', 'Tagged_Sentence', 'Tag_Idxs']][:10]\n",
        "\n",
        "# Lexicon result 정리"
      ],
      "execution_count": 29,
      "outputs": [
        {
          "output_type": "execute_result",
          "data": {
            "text/html": [
              "<div>\n",
              "<style scoped>\n",
              "    .dataframe tbody tr th:only-of-type {\n",
              "        vertical-align: middle;\n",
              "    }\n",
              "\n",
              "    .dataframe tbody tr th {\n",
              "        vertical-align: top;\n",
              "    }\n",
              "\n",
              "    .dataframe thead th {\n",
              "        text-align: right;\n",
              "    }\n",
              "</style>\n",
              "<table border=\"1\" class=\"dataframe\">\n",
              "  <thead>\n",
              "    <tr style=\"text-align: right;\">\n",
              "      <th></th>\n",
              "      <th>Tokenized_Sentence</th>\n",
              "      <th>Sentence_Idxs</th>\n",
              "      <th>Tagged_Sentence</th>\n",
              "      <th>Tag_Idxs</th>\n",
              "    </tr>\n",
              "  </thead>\n",
              "  <tbody>\n",
              "    <tr>\n",
              "      <th>0</th>\n",
              "      <td>[the, fulton, county, grand, jury, said, friday, an, investigation, of, atlanta's, recent, primary, election, produced, ``, no, evidence, '', that, any, irregularitie...</td>\n",
              "      <td>[2, 3, 4, 5, 6, 7, 8, 9, 10, 11, 12, 13, 14, 15, 16, 17, 18, 19, 20, 21, 22, 23, 24, 25, 26]</td>\n",
              "      <td>[DET, NOUN, NOUN, ADJ, NOUN, VERB, NOUN, DET, NOUN, ADP, NOUN, ADJ, NOUN, NOUN, VERB, ., DET, NOUN, ., ADP, DET, NOUN, VERB, NOUN, .]</td>\n",
              "      <td>[2, 3, 3, 4, 3, 5, 3, 2, 3, 6, 3, 4, 3, 3, 5, 7, 2, 3, 7, 6, 2, 3, 5, 3, 7]</td>\n",
              "    </tr>\n",
              "    <tr>\n",
              "      <th>1</th>\n",
              "      <td>[the, jury, further, said, in, term-end, presentments, that, the, city, executive, committee, ,, which, had, over-all, charge, of, the, election, ,, ``, deserves, the...</td>\n",
              "      <td>[2, 6, 27, 7, 28, 29, 30, 21, 2, 31, 32, 33, 34, 35, 36, 37, 38, 11, 2, 15, 34, 17, 39, 2, 40, 41, 42, 11, 2, 31, 11, 43, 20, 44, 2, 45, 28, 35, 2, 15, 46, 47, 26]</td>\n",
              "      <td>[DET, NOUN, ADV, VERB, ADP, NOUN, NOUN, ADP, DET, NOUN, ADJ, NOUN, ., DET, VERB, ADJ, NOUN, ADP, DET, NOUN, ., ., VERB, DET, NOUN, CONJ, NOUN, ADP, DET, NOUN, ADP, NO...</td>\n",
              "      <td>[2, 3, 8, 5, 6, 3, 3, 6, 2, 3, 4, 3, 7, 2, 5, 4, 3, 6, 2, 3, 7, 7, 5, 2, 3, 9, 3, 6, 2, 3, 6, 3, 7, 6, 2, 3, 6, 2, 2, 3, 5, 5, 7]</td>\n",
              "    </tr>\n",
              "    <tr>\n",
              "      <th>2</th>\n",
              "      <td>[the, september-october, term, jury, had, been, charged, by, fulton, superior, court, judge, durwood, pye, to, investigate, reports, of, possible, ``, irregularities,...</td>\n",
              "      <td>[2, 48, 49, 6, 36, 50, 51, 52, 3, 53, 54, 55, 56, 57, 58, 59, 60, 11, 61, 17, 23, 20, 28, 2, 62, 14, 35, 46, 63, 52, 64, 65, 66, 67, 26]</td>\n",
              "      <td>[DET, NOUN, NOUN, NOUN, VERB, VERB, VERB, ADP, NOUN, ADJ, NOUN, NOUN, NOUN, NOUN, PRT, VERB, NOUN, ADP, ADJ, ., NOUN, ., ADP, DET, ADJ, NOUN, DET, VERB, VERB, ADP, NO...</td>\n",
              "      <td>[2, 3, 3, 3, 5, 5, 5, 6, 3, 4, 3, 3, 3, 3, 10, 5, 3, 6, 4, 7, 3, 7, 6, 2, 4, 3, 2, 5, 5, 6, 3, 3, 3, 3, 7]</td>\n",
              "    </tr>\n",
              "    <tr>\n",
              "      <th>3</th>\n",
              "      <td>[``, only, a, relative, handful, of, such, reports, was, received, '', ,, the, jury, said, ,, ``, considering, the, widespread, interest, in, the, election, ,, the, n...</td>\n",
              "      <td>[17, 68, 69, 70, 71, 11, 72, 60, 46, 73, 20, 34, 2, 6, 7, 34, 17, 74, 2, 75, 76, 28, 2, 15, 34, 2, 77, 11, 78, 41, 2, 79, 11, 80, 31, 20, 26]</td>\n",
              "      <td>[., ADV, DET, ADJ, NOUN, ADP, ADJ, NOUN, VERB, VERB, ., ., DET, NOUN, VERB, ., ., ADP, DET, ADJ, NOUN, ADP, DET, NOUN, ., DET, NOUN, ADP, NOUN, CONJ, DET, NOUN, ADP, ...</td>\n",
              "      <td>[7, 8, 2, 4, 3, 6, 4, 3, 5, 5, 7, 7, 2, 3, 5, 7, 7, 6, 2, 4, 3, 6, 2, 3, 7, 2, 3, 6, 3, 9, 2, 3, 6, 2, 3, 7, 7]</td>\n",
              "    </tr>\n",
              "    <tr>\n",
              "      <th>4</th>\n",
              "      <td>[the, jury, said, it, did, find, that, many, of, georgia's, registration, and, election, laws, ``, are, outmoded, or, inadequate, and, often, ambiguous, '', .]</td>\n",
              "      <td>[2, 6, 7, 81, 82, 83, 21, 84, 11, 85, 86, 41, 15, 87, 17, 88, 89, 90, 91, 41, 92, 93, 20, 26]</td>\n",
              "      <td>[DET, NOUN, VERB, PRON, VERB, VERB, ADP, ADJ, ADP, NOUN, NOUN, CONJ, NOUN, NOUN, ., VERB, ADJ, CONJ, ADJ, CONJ, ADV, ADJ, ., .]</td>\n",
              "      <td>[2, 3, 5, 11, 5, 5, 6, 4, 6, 3, 3, 9, 3, 3, 7, 5, 4, 9, 4, 9, 8, 4, 7, 7]</td>\n",
              "    </tr>\n",
              "    <tr>\n",
              "      <th>5</th>\n",
              "      <td>[it, recommended, that, fulton, legislators, act, ``, to, have, these, laws, studied, and, revised, to, the, end, of, modernizing, and, improving, them, '', .]</td>\n",
              "      <td>[81, 94, 21, 3, 95, 96, 17, 58, 97, 98, 87, 99, 41, 100, 58, 2, 101, 11, 102, 41, 103, 104, 20, 26]</td>\n",
              "      <td>[PRON, VERB, ADP, NOUN, NOUN, VERB, ., PRT, VERB, DET, NOUN, VERB, CONJ, VERB, ADP, DET, NOUN, ADP, VERB, CONJ, VERB, PRON, ., .]</td>\n",
              "      <td>[11, 5, 6, 3, 3, 5, 7, 10, 5, 2, 3, 5, 9, 5, 6, 2, 3, 6, 5, 9, 5, 11, 7, 7]</td>\n",
              "    </tr>\n",
              "    <tr>\n",
              "      <th>6</th>\n",
              "      <td>[the, grand, jury, commented, on, a, number, of, other, topics, ,, among, them, the, atlanta, and, fulton, county, purchasing, departments, which, it, said, ``, are, ...</td>\n",
              "      <td>[2, 5, 6, 105, 106, 69, 77, 11, 107, 108, 34, 109, 104, 2, 43, 41, 3, 4, 110, 111, 35, 81, 7, 17, 88, 112, 113, 41, 114, 115, 116, 117, 35, 118, 58, 2, 119, 76, 11, 1...</td>\n",
              "      <td>[DET, ADJ, NOUN, VERB, ADP, DET, NOUN, ADP, ADJ, NOUN, ., ADP, PRON, DET, NOUN, CONJ, NOUN, NOUN, VERB, NOUN, DET, PRON, VERB, ., VERB, ADV, VERB, CONJ, VERB, ADV, VE...</td>\n",
              "      <td>[2, 4, 3, 5, 6, 2, 3, 6, 4, 3, 7, 6, 11, 2, 3, 9, 3, 3, 5, 3, 2, 11, 5, 7, 5, 8, 5, 9, 5, 8, 5, 3, 2, 5, 6, 2, 4, 3, 6, 2, 3, 7, 7]</td>\n",
              "    </tr>\n",
              "    <tr>\n",
              "      <th>7</th>\n",
              "      <td>[merger, proposed]</td>\n",
              "      <td>[122, 123]</td>\n",
              "      <td>[NOUN, VERB]</td>\n",
              "      <td>[3, 5]</td>\n",
              "    </tr>\n",
              "    <tr>\n",
              "      <th>8</th>\n",
              "      <td>[however, ,, the, jury, said, it, believes, ``, these, two, offices, should, be, combined, to, achieve, greater, efficiency, and, reduce, the, cost, of, administratio...</td>\n",
              "      <td>[124, 34, 2, 6, 7, 81, 125, 17, 98, 126, 127, 128, 129, 130, 58, 131, 132, 133, 41, 134, 2, 135, 11, 136, 20, 26]</td>\n",
              "      <td>[ADV, ., DET, NOUN, VERB, PRON, VERB, ., DET, NUM, NOUN, VERB, VERB, VERB, PRT, VERB, ADJ, NOUN, CONJ, VERB, DET, NOUN, ADP, NOUN, ., .]</td>\n",
              "      <td>[8, 7, 2, 3, 5, 11, 5, 7, 2, 12, 3, 5, 5, 5, 10, 5, 4, 3, 9, 5, 2, 3, 6, 3, 7, 7]</td>\n",
              "    </tr>\n",
              "    <tr>\n",
              "      <th>9</th>\n",
              "      <td>[the, city, purchasing, department, ,, the, jury, said, ,, ``, is, lacking, in, experienced, clerical, personnel, as, a, result, of, city, personnel, policies, '', .]</td>\n",
              "      <td>[2, 31, 110, 137, 34, 2, 6, 7, 34, 17, 138, 139, 28, 140, 141, 142, 143, 69, 144, 11, 31, 142, 145, 20, 26]</td>\n",
              "      <td>[DET, NOUN, VERB, NOUN, ., DET, NOUN, VERB, ., ., VERB, VERB, ADP, VERB, ADJ, NOUN, ADP, DET, NOUN, ADP, NOUN, NOUN, NOUN, ., .]</td>\n",
              "      <td>[2, 3, 5, 3, 7, 2, 3, 5, 7, 7, 5, 5, 6, 5, 4, 3, 6, 2, 3, 6, 3, 3, 3, 7, 7]</td>\n",
              "    </tr>\n",
              "  </tbody>\n",
              "</table>\n",
              "</div>"
            ],
            "text/plain": [
              "                                                                                                                                                          Tokenized_Sentence  ...                                                                                                                             Tag_Idxs\n",
              "0  [the, fulton, county, grand, jury, said, friday, an, investigation, of, atlanta's, recent, primary, election, produced, ``, no, evidence, '', that, any, irregularitie...  ...                                                          [2, 3, 3, 4, 3, 5, 3, 2, 3, 6, 3, 4, 3, 3, 5, 7, 2, 3, 7, 6, 2, 3, 5, 3, 7]\n",
              "1  [the, jury, further, said, in, term-end, presentments, that, the, city, executive, committee, ,, which, had, over-all, charge, of, the, election, ,, ``, deserves, the...  ...    [2, 3, 8, 5, 6, 3, 3, 6, 2, 3, 4, 3, 7, 2, 5, 4, 3, 6, 2, 3, 7, 7, 5, 2, 3, 9, 3, 6, 2, 3, 6, 3, 7, 6, 2, 3, 6, 2, 2, 3, 5, 5, 7]\n",
              "2  [the, september-october, term, jury, had, been, charged, by, fulton, superior, court, judge, durwood, pye, to, investigate, reports, of, possible, ``, irregularities,...  ...                           [2, 3, 3, 3, 5, 5, 5, 6, 3, 4, 3, 3, 3, 3, 10, 5, 3, 6, 4, 7, 3, 7, 6, 2, 4, 3, 2, 5, 5, 6, 3, 3, 3, 3, 7]\n",
              "3  [``, only, a, relative, handful, of, such, reports, was, received, '', ,, the, jury, said, ,, ``, considering, the, widespread, interest, in, the, election, ,, the, n...  ...                      [7, 8, 2, 4, 3, 6, 4, 3, 5, 5, 7, 7, 2, 3, 5, 7, 7, 6, 2, 4, 3, 6, 2, 3, 7, 2, 3, 6, 3, 9, 2, 3, 6, 2, 3, 7, 7]\n",
              "4            [the, jury, said, it, did, find, that, many, of, georgia's, registration, and, election, laws, ``, are, outmoded, or, inadequate, and, often, ambiguous, '', .]  ...                                                            [2, 3, 5, 11, 5, 5, 6, 4, 6, 3, 3, 9, 3, 3, 7, 5, 4, 9, 4, 9, 8, 4, 7, 7]\n",
              "5            [it, recommended, that, fulton, legislators, act, ``, to, have, these, laws, studied, and, revised, to, the, end, of, modernizing, and, improving, them, '', .]  ...                                                          [11, 5, 6, 3, 3, 5, 7, 10, 5, 2, 3, 5, 9, 5, 6, 2, 3, 6, 5, 9, 5, 11, 7, 7]\n",
              "6  [the, grand, jury, commented, on, a, number, of, other, topics, ,, among, them, the, atlanta, and, fulton, county, purchasing, departments, which, it, said, ``, are, ...  ...  [2, 4, 3, 5, 6, 2, 3, 6, 4, 3, 7, 6, 11, 2, 3, 9, 3, 3, 5, 3, 2, 11, 5, 7, 5, 8, 5, 9, 5, 8, 5, 3, 2, 5, 6, 2, 4, 3, 6, 2, 3, 7, 7]\n",
              "7                                                                                                                                                         [merger, proposed]  ...                                                                                                                               [3, 5]\n",
              "8  [however, ,, the, jury, said, it, believes, ``, these, two, offices, should, be, combined, to, achieve, greater, efficiency, and, reduce, the, cost, of, administratio...  ...                                                    [8, 7, 2, 3, 5, 11, 5, 7, 2, 12, 3, 5, 5, 5, 10, 5, 4, 3, 9, 5, 2, 3, 6, 3, 7, 7]\n",
              "9     [the, city, purchasing, department, ,, the, jury, said, ,, ``, is, lacking, in, experienced, clerical, personnel, as, a, result, of, city, personnel, policies, '', .]  ...                                                          [2, 3, 5, 3, 7, 2, 3, 5, 7, 7, 5, 5, 6, 5, 4, 3, 6, 2, 3, 6, 3, 3, 3, 7, 7]\n",
              "\n",
              "[10 rows x 4 columns]"
            ]
          },
          "metadata": {},
          "execution_count": 29
        }
      ]
    },
    {
      "cell_type": "markdown",
      "metadata": {
        "id": "8l_coxH36u0e"
      },
      "source": [
        "###  <font color='#6629b2'>Numerical lists to matrices</font>\n",
        "\n",
        "Finally, we need to put the input sequences into matrices for training. There will be separate matrices for the word and tag sequences, where each row is a sentence and each column is a word (or tag) index in that sentence. This matrix format is necessary for the model to process the sentences in batches as opposed to one at a time, which significantly speeds up training. However, each sentence has a different number of words, so we create a padded matrix equal to the length on the longest sentence in the training set. For all sentences with fewer words, we prepend the row with zeros representing an empty word (and tag) position. This is why the number 0 was not assigned as an index in the lexicons. We can specify to Keras to ignore these zeros during training."
      ]
    },
    {
      "cell_type": "code",
      "metadata": {
        "colab": {
          "base_uri": "https://localhost:8080/"
        },
        "id": "lus8gXIW6u0e",
        "outputId": "ab7eb108-7979-48ef-be47-d99a20680df5"
      },
      "source": [
        "from keras.preprocessing.sequence import pad_sequences\n",
        "\n",
        "# zero padding\n",
        "\n",
        "def pad_idx_seqs(idx_seqs, max_seq_len):\n",
        "    # Keras provides a convenient padding function; \n",
        "    padded_idxs = pad_sequences(sequences=idx_seqs, maxlen=max_seq_len)\n",
        "    return padded_idxs\n",
        "\n",
        "max_seq_len = max([len(idx_seq) for idx_seq in train_sents['Sentence_Idxs']]) # Get length of longest sequence\n",
        "train_padded_words = pad_idx_seqs(train_sents['Sentence_Idxs'], \n",
        "                                  max_seq_len + 1) #Add one to max length for offsetting sequence by 1\n",
        "train_padded_tags = pad_idx_seqs(train_sents['Tag_Idxs'],\n",
        "                                 max_seq_len + 1)  #Add one to max length for offsetting sequence by 1\n",
        "\n",
        "print(\"WORDS:\\n\", train_padded_words)\n",
        "print(\"SHAPE:\", train_padded_words.shape, \"\\n\")\n",
        "\n",
        "print(\"TAGS:\\n\", train_padded_tags)\n",
        "print(\"SHAPE:\", train_padded_tags.shape, \"\\n\")\n",
        "\n",
        "# seems that longest sentence is 60 -> fit all into 60 columns\n",
        "# 100 = number of sentences"
      ],
      "execution_count": 30,
      "outputs": [
        {
          "output_type": "stream",
          "name": "stdout",
          "text": [
            "WORDS:\n",
            " [[  0   0   0 ...  24  25  26]\n",
            " [  0   0   0 ...  46  47  26]\n",
            " [  0   0   0 ...  66  67  26]\n",
            " ...\n",
            " [  0   0   0 ... 758  20  26]\n",
            " [  0   0   0 ... 802  34 447]\n",
            " [  0   0   0 ... 447 812  26]]\n",
            "SHAPE: (100, 60) \n",
            "\n",
            "TAGS:\n",
            " [[0 0 0 ... 5 3 7]\n",
            " [0 0 0 ... 5 5 7]\n",
            " [0 0 0 ... 3 3 7]\n",
            " ...\n",
            " [0 0 0 ... 3 7 7]\n",
            " [0 0 0 ... 3 7 3]\n",
            " [0 0 0 ... 3 3 7]]\n",
            "SHAPE: (100, 60) \n",
            "\n"
          ]
        }
      ]
    },
    {
      "cell_type": "markdown",
      "metadata": {
        "id": "Hf0Z6_UA6u0f"
      },
      "source": [
        "### <font color='#6629b2'>Defining the input and output</font>\n",
        "\n",
        "In this approach, for each word in a sentence, we predict the tag for that word based on two types of input: 1. all the words in the sentence up to that point, including that current word, and 2. all the previous tags in the sentence. So for a given position in the sentence *idx*, the input is train_padded_words[idx] and train_padded_tags[idx-1], and the output is train_padded_tags[idx]. The example below shows this alignment for the first sentence in the dataset.\n"
      ]
    },
    {
      "cell_type": "code",
      "metadata": {
        "colab": {
          "base_uri": "https://localhost:8080/",
          "height": 824
        },
        "id": "n__XswJT6u0f",
        "outputId": "797785a7-c7cc-4078-dbb8-2df7a465267f"
      },
      "source": [
        "import numpy\n",
        "\n",
        "pandas.DataFrame(list(zip(train_sents['Tokenized_Sentence'].loc[0],\n",
        "                          [\"-\"] + train_sents['Tagged_Sentence'].loc[0],\n",
        "                          train_sents['Tagged_Sentence'].loc[0])),\n",
        "                 columns=['Input Word', 'Input Tag', 'Output Tag'])"
      ],
      "execution_count": 31,
      "outputs": [
        {
          "output_type": "execute_result",
          "data": {
            "text/html": [
              "<div>\n",
              "<style scoped>\n",
              "    .dataframe tbody tr th:only-of-type {\n",
              "        vertical-align: middle;\n",
              "    }\n",
              "\n",
              "    .dataframe tbody tr th {\n",
              "        vertical-align: top;\n",
              "    }\n",
              "\n",
              "    .dataframe thead th {\n",
              "        text-align: right;\n",
              "    }\n",
              "</style>\n",
              "<table border=\"1\" class=\"dataframe\">\n",
              "  <thead>\n",
              "    <tr style=\"text-align: right;\">\n",
              "      <th></th>\n",
              "      <th>Input Word</th>\n",
              "      <th>Input Tag</th>\n",
              "      <th>Output Tag</th>\n",
              "    </tr>\n",
              "  </thead>\n",
              "  <tbody>\n",
              "    <tr>\n",
              "      <th>0</th>\n",
              "      <td>the</td>\n",
              "      <td>-</td>\n",
              "      <td>DET</td>\n",
              "    </tr>\n",
              "    <tr>\n",
              "      <th>1</th>\n",
              "      <td>fulton</td>\n",
              "      <td>DET</td>\n",
              "      <td>NOUN</td>\n",
              "    </tr>\n",
              "    <tr>\n",
              "      <th>2</th>\n",
              "      <td>county</td>\n",
              "      <td>NOUN</td>\n",
              "      <td>NOUN</td>\n",
              "    </tr>\n",
              "    <tr>\n",
              "      <th>3</th>\n",
              "      <td>grand</td>\n",
              "      <td>NOUN</td>\n",
              "      <td>ADJ</td>\n",
              "    </tr>\n",
              "    <tr>\n",
              "      <th>4</th>\n",
              "      <td>jury</td>\n",
              "      <td>ADJ</td>\n",
              "      <td>NOUN</td>\n",
              "    </tr>\n",
              "    <tr>\n",
              "      <th>5</th>\n",
              "      <td>said</td>\n",
              "      <td>NOUN</td>\n",
              "      <td>VERB</td>\n",
              "    </tr>\n",
              "    <tr>\n",
              "      <th>6</th>\n",
              "      <td>friday</td>\n",
              "      <td>VERB</td>\n",
              "      <td>NOUN</td>\n",
              "    </tr>\n",
              "    <tr>\n",
              "      <th>7</th>\n",
              "      <td>an</td>\n",
              "      <td>NOUN</td>\n",
              "      <td>DET</td>\n",
              "    </tr>\n",
              "    <tr>\n",
              "      <th>8</th>\n",
              "      <td>investigation</td>\n",
              "      <td>DET</td>\n",
              "      <td>NOUN</td>\n",
              "    </tr>\n",
              "    <tr>\n",
              "      <th>9</th>\n",
              "      <td>of</td>\n",
              "      <td>NOUN</td>\n",
              "      <td>ADP</td>\n",
              "    </tr>\n",
              "    <tr>\n",
              "      <th>10</th>\n",
              "      <td>atlanta's</td>\n",
              "      <td>ADP</td>\n",
              "      <td>NOUN</td>\n",
              "    </tr>\n",
              "    <tr>\n",
              "      <th>11</th>\n",
              "      <td>recent</td>\n",
              "      <td>NOUN</td>\n",
              "      <td>ADJ</td>\n",
              "    </tr>\n",
              "    <tr>\n",
              "      <th>12</th>\n",
              "      <td>primary</td>\n",
              "      <td>ADJ</td>\n",
              "      <td>NOUN</td>\n",
              "    </tr>\n",
              "    <tr>\n",
              "      <th>13</th>\n",
              "      <td>election</td>\n",
              "      <td>NOUN</td>\n",
              "      <td>NOUN</td>\n",
              "    </tr>\n",
              "    <tr>\n",
              "      <th>14</th>\n",
              "      <td>produced</td>\n",
              "      <td>NOUN</td>\n",
              "      <td>VERB</td>\n",
              "    </tr>\n",
              "    <tr>\n",
              "      <th>15</th>\n",
              "      <td>``</td>\n",
              "      <td>VERB</td>\n",
              "      <td>.</td>\n",
              "    </tr>\n",
              "    <tr>\n",
              "      <th>16</th>\n",
              "      <td>no</td>\n",
              "      <td>.</td>\n",
              "      <td>DET</td>\n",
              "    </tr>\n",
              "    <tr>\n",
              "      <th>17</th>\n",
              "      <td>evidence</td>\n",
              "      <td>DET</td>\n",
              "      <td>NOUN</td>\n",
              "    </tr>\n",
              "    <tr>\n",
              "      <th>18</th>\n",
              "      <td>''</td>\n",
              "      <td>NOUN</td>\n",
              "      <td>.</td>\n",
              "    </tr>\n",
              "    <tr>\n",
              "      <th>19</th>\n",
              "      <td>that</td>\n",
              "      <td>.</td>\n",
              "      <td>ADP</td>\n",
              "    </tr>\n",
              "    <tr>\n",
              "      <th>20</th>\n",
              "      <td>any</td>\n",
              "      <td>ADP</td>\n",
              "      <td>DET</td>\n",
              "    </tr>\n",
              "    <tr>\n",
              "      <th>21</th>\n",
              "      <td>irregularities</td>\n",
              "      <td>DET</td>\n",
              "      <td>NOUN</td>\n",
              "    </tr>\n",
              "    <tr>\n",
              "      <th>22</th>\n",
              "      <td>took</td>\n",
              "      <td>NOUN</td>\n",
              "      <td>VERB</td>\n",
              "    </tr>\n",
              "    <tr>\n",
              "      <th>23</th>\n",
              "      <td>place</td>\n",
              "      <td>VERB</td>\n",
              "      <td>NOUN</td>\n",
              "    </tr>\n",
              "    <tr>\n",
              "      <th>24</th>\n",
              "      <td>.</td>\n",
              "      <td>NOUN</td>\n",
              "      <td>.</td>\n",
              "    </tr>\n",
              "  </tbody>\n",
              "</table>\n",
              "</div>"
            ],
            "text/plain": [
              "        Input Word Input Tag Output Tag\n",
              "0              the         -        DET\n",
              "1           fulton       DET       NOUN\n",
              "2           county      NOUN       NOUN\n",
              "3            grand      NOUN        ADJ\n",
              "4             jury       ADJ       NOUN\n",
              "5             said      NOUN       VERB\n",
              "6           friday      VERB       NOUN\n",
              "7               an      NOUN        DET\n",
              "8    investigation       DET       NOUN\n",
              "9               of      NOUN        ADP\n",
              "10       atlanta's       ADP       NOUN\n",
              "11          recent      NOUN        ADJ\n",
              "12         primary       ADJ       NOUN\n",
              "13        election      NOUN       NOUN\n",
              "14        produced      NOUN       VERB\n",
              "15              ``      VERB          .\n",
              "16              no         .        DET\n",
              "17        evidence       DET       NOUN\n",
              "18              ''      NOUN          .\n",
              "19            that         .        ADP\n",
              "20             any       ADP        DET\n",
              "21  irregularities       DET       NOUN\n",
              "22            took      NOUN       VERB\n",
              "23           place      VERB       NOUN\n",
              "24               .      NOUN          ."
            ]
          },
          "metadata": {},
          "execution_count": 31
        }
      ]
    },
    {
      "cell_type": "markdown",
      "metadata": {
        "id": "8C_rsIvW6u0g"
      },
      "source": [
        "This same alignment is shown below for a sentence in the padded matrices. Because of the offsetting in the alignment, the length of the padded matrices will be reduced by one. "
      ]
    },
    {
      "cell_type": "code",
      "metadata": {
        "colab": {
          "base_uri": "https://localhost:8080/"
        },
        "id": "j46w9HXD6u0g",
        "outputId": "7fa96e60-5717-4eec-b3d3-5e9298e32a60"
      },
      "source": [
        "print(pandas.DataFrame(list(zip(train_padded_words[0,1:], train_padded_tags[0,:-1], train_padded_tags[0, 1:])),\n",
        "                columns=['Input Words', 'Input Tags', 'Output Tags']))\n",
        "\n",
        "# lot of zero paddings"
      ],
      "execution_count": 32,
      "outputs": [
        {
          "output_type": "stream",
          "name": "stdout",
          "text": [
            "    Input Words  Input Tags  Output Tags\n",
            "0             0           0            0\n",
            "1             0           0            0\n",
            "2             0           0            0\n",
            "3             0           0            0\n",
            "4             0           0            0\n",
            "5             0           0            0\n",
            "6             0           0            0\n",
            "7             0           0            0\n",
            "8             0           0            0\n",
            "9             0           0            0\n",
            "10            0           0            0\n",
            "11            0           0            0\n",
            "12            0           0            0\n",
            "13            0           0            0\n",
            "14            0           0            0\n",
            "15            0           0            0\n",
            "16            0           0            0\n",
            "17            0           0            0\n",
            "18            0           0            0\n",
            "19            0           0            0\n",
            "20            0           0            0\n",
            "21            0           0            0\n",
            "22            0           0            0\n",
            "23            0           0            0\n",
            "24            0           0            0\n",
            "25            0           0            0\n",
            "26            0           0            0\n",
            "27            0           0            0\n",
            "28            0           0            0\n",
            "29            0           0            0\n",
            "30            0           0            0\n",
            "31            0           0            0\n",
            "32            0           0            0\n",
            "33            0           0            0\n",
            "34            2           0            2\n",
            "35            3           2            3\n",
            "36            4           3            3\n",
            "37            5           3            4\n",
            "38            6           4            3\n",
            "39            7           3            5\n",
            "40            8           5            3\n",
            "41            9           3            2\n",
            "42           10           2            3\n",
            "43           11           3            6\n",
            "44           12           6            3\n",
            "45           13           3            4\n",
            "46           14           4            3\n",
            "47           15           3            3\n",
            "48           16           3            5\n",
            "49           17           5            7\n",
            "50           18           7            2\n",
            "51           19           2            3\n",
            "52           20           3            7\n",
            "53           21           7            6\n",
            "54           22           6            2\n",
            "55           23           2            3\n",
            "56           24           3            5\n",
            "57           25           5            3\n",
            "58           26           3            7\n"
          ]
        }
      ]
    },
    {
      "cell_type": "markdown",
      "metadata": {
        "id": "LlrnrC7m6u0g"
      },
      "source": [
        "##  <font color='#6629b2'>Building the model</font>\n",
        "\n",
        "### <font color='#6629b2'>Functional API</font>\n",
        "\n",
        "To set up the model, we'll use Keras [Functional API](https://keras.io/getting-started/functional-api-guide/), which is one of two ways to assemble models in Keras (the alternative is the [Sequential API](https://keras.io/getting-started/sequential-model-guide/), which is a bit simpler but has more constraints). For the POS tagger model, new tags will be predicted from the combination of two input sequences, the words in the sentence and the corresponding tags in the sentence. The Functional API is specifically useful when a model has multiple inputs and/or outputs. A model consists of a series of layers. As shown in the code below, we initialize instances for each layer. Each layer can be called with another layer as input, e.g. Embedding()(input_layer). A model instance is initialized with the Model() object, which defines the initial input and final output layers for that model. Before the model can be trained, the compile() function must be called with the loss function and optimization algorithm specified (see below).\n",
        "\n",
        "### <font color='#6629b2'>**Layers**</font>\n",
        "\n",
        "We'll build an RNN with the following layers, numbered according to the level on which they are stacked:\n",
        "\n",
        "**1. Input (words)**: This input layer takes in a sequence of word indices.\n",
        "\n",
        "**1. Input (tags)**: This is the other input layer alongside the first, and it takes in a sequence of tag indices. It is on the same level as the word input layer, so both input sequences are read in parallel by the model.\n",
        "\n",
        "**2. Embedding (words)**: There are two embedding layers, one for the words and a different one for the tags. Both of them function the same way: they convert the indices into distributed vector representations (embeddings). The mask_zero=True parameter indicates that values of 0 in the matrix (the padding) will be ignored by the model.\n",
        "\n",
        "**2. Embedding (tags)**: Same as the word embedding layer, but for the tags.\n",
        "\n",
        "**3. Concatenate**: This layer merges each embedded word sequence and corresponding embedded tag sequence into a single sequence. This means that for a given word and the tag for that word, their vectors will be concatenated into a single vector.\n",
        "\n",
        "**4. GRU**: The recurrent (GRU) hidden layer reads the merged embedded sequence and computes a representation (hidden state) of the sequence. The result is a new vector for each word/tag in the sequence. There are a few architectures for this layer - I use the GRU variation, Keras also provides LSTM or just the simple vanilla recurrent layer. By specifying return_sequences=True in the below function, this layer will output the entire sequence of vectors (hidden states) for the sequence, rather than just the most recent hidden state that is returned by default.\n",
        "\n",
        "**5. (Time Distributed) Dense**: An output layer that **produces a probability distribution for each possible tag for each word in the sequence**. The 'softmax' activation is what transforms the values of this layer into scores from 0 to 1 that can be treated as probabilities. The Dense layer produces the probability scores for one particular timepoint (word). By wrapping this in a TimeDistributed() layer, the model outputs a probability distribution for every timepoint in the sequence. \n",
        "\n",
        "The term \"layer\" is just an abstraction, when really all these layers are just matrices. Each layer is connected to the layer above it via a set of weights (also matrices), which are the parameters that are adjusted during training in order for the model to learn to predict tags. The process of training a neural network is a series of matrix multiplications. \n",
        "\n",
        "\n",
        "\n",
        "### <font color='#6629b2'>**Parameters**</font>\n",
        "\n",
        "Our function for creating the model takes the following parameters:\n",
        "\n",
        "**seq_input_length**: the length of the padded matrices for the word and tag sentence inputs, which will be the same since there is a one-to-one mapping between tags. This is equal to the length of the longest sentence in the training data. => 여기서는 60\n",
        "\n",
        "**n_word_input_nodes**: the number of unique words in the lexicon, plus one to account for matrix padding represented by 0 values. This indicates the number of rows in the word embedding layer, where each row corresponds to a word. => By Lexicon\n",
        "\n",
        "**n_tag_input_nodes**: the number of unique tags in the dataset, plus one to account for padding. This indicates the number of rows in the tag embedding layer, where each row corresponds to a tag. => By Lexicon\n",
        "\n",
        "=> Given from our data set\n",
        "\n",
        "---\n",
        "Rest are Tuning parameters =>\n",
        "\n",
        "**n_word_embedding_nodes**: the number of dimensions in the word embedding layer, which can be freely defined. Here, it is set to 300.\n",
        "\n",
        "**n_tag_embedding_nodes**: the number of dimensions in the tag embedding layer, which can be freely defined. Here, it is set to 100. => should have longer embedding nodes with longer sentences\n",
        "\n",
        "---\n",
        "**n_hidden_nodes**: the number of dimensions in the hidden layer. Like the embedding layers, this can be freely chosen. Here, it is set to 500.\n",
        "\n",
        "for GRU -> forget or remember\n",
        "\n",
        "**stateful**: By default, the GRU hidden layer will reset its state (i.e. its values will be 0s) each time a new set of sequences is read into the model.  However, **when stateful=True is given, this parameter indicates that the GRU hidden layer should \"remember\" its state until it is explicitly told to forget it.** In other words, the values in this layer will be carried over between separate calls to the training function. This is useful when processing long sequences, so that the model can iterate through chunks of the sequences rather than loading the entire matrix at the same time, which is memory-intensive. I'll show below how this setting is also useful when tagging new sequences. Here, because the training sequences only consist of one sentence, stateful will be set to False during training. At prediction time, it will be set to True.\n",
        "\n",
        "**batch_size**: It is not always necessary to specify the batch size when setting up a Keras model. The fit() function will apply batch processing by default and the batch size can be given as a parameter. However, when a model is stateful, the batch size does need to be specified in the Input() layers. Here, for training, batch_size=None, so Keras will use its default batch size (which is 32). During prediction, the batch size will be set to 1.\n",
        "\n",
        "**we have to decide number of hidden nodes, batch size, stateful...**\n",
        "\n",
        "### <font color='#6629b2'>Procedure</font>\n",
        "\n",
        "The output of the model is a sequence of vectors, each with the same number of dimensions as the number of unique tags (n_tag_input_nodes). Each vector contains the predicted probability of each possible tag for the corresponding word in that position in the sequence. Like all neural networks, RNNs learn by updating the parameters (weights) to optimize an objective (loss) function applied to the output. For this model, the objective is to minimize the cross entropy (named as the \"sparse_categorical_crossentropy\" in the code) between the predicted tag probabilities and the probabilities observed from the tags in training data, resulting in probabilities that more accurately predict when a particular tag will appear. This is the general procedure used for all multi-label classification tasks. Updates to the weights of the model are performed using an optimization algorithm, such as Adam used here. The details of this process are extensive; see the resources at the bottom of the notebook if you want a deeper understanding. One huge benefit of Keras is that it implements many of these details for you. Not only does it already have implementations of the types of layer architectures, it also has many of the [loss functions](https://keras.io/losses/) and [optimization methods](https://keras.io/optimizers/) you need for training various models. The specific loss function and optimization method you use is specified when compiling the model with the model.compile() function.\n"
      ]
    },
    {
      "cell_type": "code",
      "metadata": {
        "id": "KPzD3dtN6u0i"
      },
      "source": [
        "'''Create the model'''\n",
        "\n",
        "from tensorflow.keras import Input\n",
        "from tensorflow.keras.models import Model\n",
        "from tensorflow.keras.layers import Concatenate, TimeDistributed, Dense\n",
        "from tensorflow.keras.layers import Embedding, GRU\n",
        "\n",
        "def create_model(seq_input_len, n_word_input_nodes, n_tag_input_nodes, n_word_embedding_nodes,\n",
        "                 n_tag_embedding_nodes, n_hidden_nodes, stateful=False, batch_size=32,reset_after=True):\n",
        "    \n",
        "    #Layers 1\n",
        "    word_input = Input(shape=(None,), batch_size=batch_size, name='word_input_layer')\n",
        "    tag_input = Input(shape=(None,), batch_size=batch_size, name='tag_input_layer')\n",
        "\n",
        "    #Layers 2 : embedding\n",
        "    word_embeddings = Embedding(input_dim=n_word_input_nodes,\n",
        "                                output_dim=n_word_embedding_nodes, \n",
        "                                mask_zero=True, name='word_embedding_layer')(word_input) #mask_zero will ignore 0 padding\n",
        "    #Output shape = (batch_size, seq_input_len, n_word_embedding_nodes)\n",
        "    tag_embeddings = Embedding(input_dim=n_tag_input_nodes,\n",
        "                               output_dim=n_tag_embedding_nodes,\n",
        "                               mask_zero=True, name='tag_embedding_layer')(tag_input) \n",
        "    #Output shape = (batch_size, seq_input_len, n_tag_embedding_nodes)\n",
        "    \n",
        "    #Layer 3 : concatenate\n",
        "    merged_embeddings = Concatenate(axis=-1, name='concat_embedding_layer')([word_embeddings, tag_embeddings])\n",
        "    #Output shape =  (batch_size, seq_input_len, n_word_embedding_nodes + n_tag_embedding_nodes)\n",
        "    \n",
        "    #Layer 4: core RNN part (hidden)\n",
        "    hidden_layer = GRU(units=n_hidden_nodes, return_sequences=True,\n",
        "                       reset_after=reset_after,\n",
        "                       stateful=stateful, name='hidden_layer')(merged_embeddings)\n",
        "    #Output shape = (batch_size, seq_input_len, n_hidden_nodes)\n",
        "    \n",
        "    #Layer 5: softmax\n",
        "    output_layer = TimeDistributed(Dense(units=n_tag_input_nodes, \n",
        "                                         activation='softmax'), name='output_layer')(hidden_layer)\n",
        "    # Output shape = (batch_size, seq_input_len, n_tag_input_nodes)\n",
        "    \n",
        "    #Specify which layers are input and output, compile model with loss and optimization functions\n",
        "    model = Model(inputs=[word_input, tag_input], outputs=output_layer)\n",
        "    model.compile(loss=\"sparse_categorical_crossentropy\",\n",
        "                  optimizer='adam')\n",
        "    \n",
        "    return model"
      ],
      "execution_count": 33,
      "outputs": []
    },
    {
      "cell_type": "code",
      "metadata": {
        "id": "2rStHksk6u0k"
      },
      "source": [
        "# model에 parameter 지정\n",
        "# 밑에 3개는 직접 설정\n",
        "\n",
        "model = create_model(seq_input_len=train_padded_words.shape[-1] - 1, #substract 1 from matrix length because of offset => 60\n",
        "                     n_word_input_nodes=len(words_lexicon) + 1, #Add one for 0 padding\n",
        "                     n_tag_input_nodes=len(tags_lexicon) + 1, #Add one for 0 padding\n",
        "                     n_word_embedding_nodes=300,\n",
        "                     n_tag_embedding_nodes=100,\n",
        "                     n_hidden_nodes=500)"
      ],
      "execution_count": 34,
      "outputs": []
    },
    {
      "cell_type": "markdown",
      "metadata": {
        "id": "IgBGnzCp6u0k"
      },
      "source": [
        "### <font color='#6629b2'>Training</font>\n",
        "\n",
        "Now we're ready to train the model. We'll call the fit() function to train the model for 10 iterations through the dataset (epochs), using a batch size of 20 sentences. Keras reports to cross-entropy loss after each epoch, which should continue to decrease if the model is learning correctly."
      ]
    },
    {
      "cell_type": "code",
      "metadata": {
        "colab": {
          "base_uri": "https://localhost:8080/",
          "height": 197
        },
        "id": "YweYkvln6u0k",
        "outputId": "a8b13ec5-6ab3-4404-af46-333076321540"
      },
      "source": [
        "'''Train the model'''\n",
        "\n",
        "# output matrix (y) has extra 3rd dimension added because sparse cross-entropy function requires one label per row\n",
        "model.fit(x=[train_padded_words[:,1:], train_padded_tags[:,:-1]], \n",
        "          y=train_padded_tags[:, 1:, None], \n",
        "          batch_size=20, epochs=5)\n",
        "\n",
        "model.save_weights('model_weights.h5') #Save model\n",
        "downloaded_train = files.download('model_weights.h5')"
      ],
      "execution_count": 37,
      "outputs": [
        {
          "output_type": "stream",
          "name": "stdout",
          "text": [
            "Epoch 1/5\n",
            "5/5 [==============================] - 3s 532ms/step - loss: 0.1216\n",
            "Epoch 2/5\n",
            "5/5 [==============================] - 3s 511ms/step - loss: 0.0831\n",
            "Epoch 3/5\n",
            "5/5 [==============================] - 3s 547ms/step - loss: 0.0602\n",
            "Epoch 4/5\n",
            "5/5 [==============================] - 3s 522ms/step - loss: 0.0445\n",
            "Epoch 5/5\n",
            "5/5 [==============================] - 3s 509ms/step - loss: 0.0331\n"
          ]
        },
        {
          "output_type": "display_data",
          "data": {
            "application/javascript": [
              "\n",
              "    async function download(id, filename, size) {\n",
              "      if (!google.colab.kernel.accessAllowed) {\n",
              "        return;\n",
              "      }\n",
              "      const div = document.createElement('div');\n",
              "      const label = document.createElement('label');\n",
              "      label.textContent = `Downloading \"${filename}\": `;\n",
              "      div.appendChild(label);\n",
              "      const progress = document.createElement('progress');\n",
              "      progress.max = size;\n",
              "      div.appendChild(progress);\n",
              "      document.body.appendChild(div);\n",
              "\n",
              "      const buffers = [];\n",
              "      let downloaded = 0;\n",
              "\n",
              "      const channel = await google.colab.kernel.comms.open(id);\n",
              "      // Send a message to notify the kernel that we're ready.\n",
              "      channel.send({})\n",
              "\n",
              "      for await (const message of channel.messages) {\n",
              "        // Send a message to notify the kernel that we're ready.\n",
              "        channel.send({})\n",
              "        if (message.buffers) {\n",
              "          for (const buffer of message.buffers) {\n",
              "            buffers.push(buffer);\n",
              "            downloaded += buffer.byteLength;\n",
              "            progress.value = downloaded;\n",
              "          }\n",
              "        }\n",
              "      }\n",
              "      const blob = new Blob(buffers, {type: 'application/binary'});\n",
              "      const a = document.createElement('a');\n",
              "      a.href = window.URL.createObjectURL(blob);\n",
              "      a.download = filename;\n",
              "      div.appendChild(a);\n",
              "      a.click();\n",
              "      div.remove();\n",
              "    }\n",
              "  "
            ],
            "text/plain": [
              "<IPython.core.display.Javascript object>"
            ]
          },
          "metadata": {}
        },
        {
          "output_type": "display_data",
          "data": {
            "application/javascript": [
              "download(\"download_b3614fa5-b020-46cb-8f82-f1be0ecda0f1\", \"model_weights.h5\", 6441792)"
            ],
            "text/plain": [
              "<IPython.core.display.Javascript object>"
            ]
          },
          "metadata": {}
        }
      ]
    },
    {
      "cell_type": "markdown",
      "metadata": {
        "id": "VgAn2zES6u0l"
      },
      "source": [
        "## <font color='#6629b2'>Tagging new sentences</font>\n",
        "\n",
        "Now that the model is trained, it can be used to predict tags in new sentences in the test set. As opposed to training where we processed multiple sentences at the same time, it will be more straightforward to demonstrate tagging on a single sentence at a time. In Keras, you can duplicate a model by loading the parameters from a saved model into a new model. Here, this new model will have a batch size of 1. It will also process a sentence one word/tag at a time (seq_input_len=1) and predict the next tag, using the stateful=True parameter to remember its previous predictions within that sentence. The other parameters of this prediction model are exactly the same as the trained model, which is why the weights can be readily transferred. To demonstrate prediction performance, I'll load the weights from a saved model previously trained on the full training set of 51606 sentences (as opposed to 100 sentences in the example dataset used above). I'll apply the model to an example test set of 100 sentences that were not observed during training.\n"
      ]
    },
    {
      "cell_type": "code",
      "metadata": {
        "id": "lsTyoMHT6u0l",
        "colab": {
          "base_uri": "https://localhost:8080/"
        },
        "outputId": "972f2219-ee46-43c0-a244-a9a539f030cb"
      },
      "source": [
        "# now we should test with test data set\n",
        "'''Create predictor model with weights from saved model, with batch_size = 1, seq_input_len = 1 and stateful=True'''\n",
        "\n",
        "# Load word and tag lexicons from the saved model \n",
        "with open('words_lexicon.pkl', 'rb') as f:\n",
        "    words_lexicon = pickle.load(f)\n",
        "    \n",
        "with open('tags_lexicon.pkl', 'rb') as f:\n",
        "    tags_lexicon = pickle.load(f)\n",
        "tags_lexicon_lookup = get_lexicon_lookup(tags_lexicon)\n",
        "\n",
        "predictor_model = create_model(seq_input_len=1,\n",
        "                               n_word_input_nodes=len(words_lexicon) + 1,\n",
        "                               n_tag_input_nodes=len(tags_lexicon) + 1,\n",
        "                               n_word_embedding_nodes=300,\n",
        "                               n_tag_embedding_nodes=100,\n",
        "                               n_hidden_nodes=500,\n",
        "                               stateful=True,\n",
        "                               batch_size=1,\n",
        "                               reset_after=False)"
      ],
      "execution_count": 38,
      "outputs": [
        {
          "output_type": "stream",
          "name": "stdout",
          "text": [
            "LEXICON LOOKUP SAMPLE:\n",
            "{2: 'DET', 3: 'NOUN', 4: 'ADJ', 5: 'VERB', 6: 'ADP', 7: '.', 8: 'ADV', 9: 'CONJ', 10: 'PRT', 11: 'PRON', 12: 'NUM', 1: '<UNK>'}\n"
          ]
        }
      ]
    },
    {
      "cell_type": "code",
      "metadata": {
        "id": "sGDMsi_S6u0l"
      },
      "source": [
        "#Transfer the weights from the trained model\n",
        "predictor_model.load_weights('model_weights.h5')"
      ],
      "execution_count": null,
      "outputs": []
    },
    {
      "cell_type": "code",
      "metadata": {
        "id": "VEoqo5W66u0m"
      },
      "source": [
        "'''Load the test set and apply same processing steps performed above for training set'''\n",
        "\n",
        "test_sents = pandas.read_csv('dataset/example_test_brown_corpus.csv', encoding='utf-8')\n",
        "test_sents['Tokenized_Sentence'] = test_sents['Tokenized_Sentence'].apply(lambda sent: sent.lower().split(\"\\t\"))\n",
        "test_sents['Tagged_Sentence'] = test_sents['Tagged_Sentence'].apply(lambda sent: sent.split(\"\\t\"))\n",
        "test_sents['Sentence_Idxs'] = tokens_to_idxs(test_sents['Tokenized_Sentence'], words_lexicon)\n",
        "test_sents['Tag_Idxs'] = tokens_to_idxs(test_sents['Tagged_Sentence'], tags_lexicon)"
      ],
      "execution_count": null,
      "outputs": []
    },
    {
      "cell_type": "markdown",
      "metadata": {
        "id": "8CCgGL1h6u0m"
      },
      "source": [
        "We'll iterate through the sentences in the test set and tag each of them. For each sentence, we start with an empty list for the predicted tags. For the first word in the sentence, there is no previous tag, so the model reads that word and the empty tag 0 (the padding value). The predict() function returns a probability distribution over the tags, and we pick the tag with the highest probability as the one to assign that word. This tag is appended to our list of predicted tags, and we continue to the next word in the sentence. Because the model is stateful, we can simply provide the current word and most recent tag as input to the predict() function, since its hidden layer has memorized the sequence of words/tags observed so far. After the entire sentence has been tagged, we call reset_states() to clear the values for this sentence so we can process a new sentence. The tag indices are mapped back to their string forms, which I show in the sample below, alongside the correct (gold) tags for comparison.\n"
      ]
    },
    {
      "cell_type": "code",
      "metadata": {
        "id": "X7CMNNAy6u0m",
        "outputId": "ea798f64-2da7-4a2e-a988-933fa23bef8e"
      },
      "source": [
        "'''Predict tags for sentences in test set'''\n",
        "\n",
        "import numpy\n",
        "\n",
        "pred_tags = []\n",
        "for _, sent in test_sents.iterrows():\n",
        "    tok_sent = sent['Tokenized_Sentence']\n",
        "    sent_idxs = sent['Sentence_Idxs']\n",
        "    sent_gold_tags = sent['Tagged_Sentence']\n",
        "    sent_pred_tags = []\n",
        "    prev_tag = 0  #initialize predicted tag sequence with padding\n",
        "    for cur_word in sent_idxs:\n",
        "        # cur_word and prev_tag are just integers, but the model expects an input array\n",
        "        # with the shape (batch_size, seq_input_len), so prepend two dimensions to these values\n",
        "        p_next_tag = predictor_model.predict(x=[numpy.array(cur_word)[None, None],\n",
        "                                                numpy.array(prev_tag)[None, None]])[0]\n",
        "        prev_tag = numpy.argmax(p_next_tag, axis=-1)[0]\n",
        "        sent_pred_tags.append(prev_tag)\n",
        "    predictor_model.reset_states()\n",
        "\n",
        "    #Map tags back to string labels\n",
        "    sent_pred_tags = [tags_lexicon_lookup[tag] for tag in sent_pred_tags]\n",
        "    pred_tags.append(sent_pred_tags) #filter padding \n",
        "\n",
        "test_sents['Predicted_Tagged_Sentence'] = pred_tags\n",
        "\n",
        "#print sample\n",
        "for _, sent in test_sents[:10].iterrows():\n",
        "    print(\"SENTENCE:\\t{}\".format(\"\\t\".join(sent['Tokenized_Sentence'])))\n",
        "    print(\"PREDICTED:\\t{}\".format(\"\\t\".join(sent['Predicted_Tagged_Sentence'])))\n",
        "    print(\"GOLD:\\t\\t{}\".format(\"\\t\".join(sent['Tagged_Sentence'])), \"\\n\\n\")\n",
        "\n",
        "    "
      ],
      "execution_count": null,
      "outputs": [
        {
          "name": "stdout",
          "output_type": "stream",
          "text": [
            "SENTENCE:\the\twas\tabout\t50\tyears\told\t.\n",
            "PREDICTED:\tNOUN\tVERB\tADV\tNUM\tNOUN\tADJ\t.\n",
            "GOLD:\t\tPRON\tVERB\tADV\tNUM\tNOUN\tADJ\t. \n",
            "\n",
            "\n",
            "SENTENCE:\t``\tanother\tyoung\tman\t,\tmy\tdear\t?\t?\n",
            "PREDICTED:\tNOUN\tDET\tADJ\tNOUN\t.\tDET\tNOUN\t.\t.\n",
            "GOLD:\t\t.\tDET\tADJ\tNOUN\t.\tDET\tNOUN\t.\t. \n",
            "\n",
            "\n",
            "SENTENCE:\treally\t,\tyou\tare\tmost\tindiscreet\tto\tdrive\thim\there\tyourself\t''\t,\the\tsaid\t,\tfrowning\twith\tdispleasure\t.\n",
            "PREDICTED:\tNOUN\t.\tPRON\tVERB\tADV\tADJ\tADP\tVERB\tPRON\tADV\tPRON\t.\t.\tPRON\tVERB\t.\tVERB\tADP\tNOUN\t.\n",
            "GOLD:\t\tADV\t.\tPRON\tVERB\tADV\tADJ\tPRT\tVERB\tPRON\tADV\tPRON\t.\t.\tPRON\tVERB\t.\tVERB\tADP\tNOUN\t. \n",
            "\n",
            "\n",
            "SENTENCE:\tdelphine\tpresented\ther\tcheek\tfor\ta\tkiss\t,\tand\tthe\tphysician\tpecked\tit\tlike\ta\ttimid\trooster\t.\n",
            "PREDICTED:\tNOUN\tVERB\tPRON\tNOUN\tADP\tDET\tNOUN\t.\tCONJ\tDET\tNOUN\tVERB\tPRON\tADP\tDET\tADJ\tNOUN\t.\n",
            "GOLD:\t\tNOUN\tVERB\tDET\tNOUN\tADP\tDET\tNOUN\t.\tCONJ\tDET\tNOUN\tVERB\tPRON\tADP\tDET\tADJ\tNOUN\t. \n",
            "\n",
            "\n",
            "SENTENCE:\t``\tdandy\tis\tto\tbe\tour\thouse\tguest\t,\tlouis\t.\n",
            "PREDICTED:\tNOUN\tNOUN\tVERB\tPRT\tVERB\tDET\tNOUN\tNOUN\t.\tNOUN\t.\n",
            "GOLD:\t\t.\tNOUN\tVERB\tPRT\tVERB\tDET\tNOUN\tNOUN\t.\tNOUN\t. \n",
            "\n",
            "\n",
            "SENTENCE:\ti\twant\tthe\troom\tin\tthe\tattic\tprepared\tfor\thim\the\tis\ta\tmost\tunusual\tlad\t,\tquite\tprecocious\tin\tmany\tways\t.\n",
            "PREDICTED:\tNOUN\tVERB\tDET\tNOUN\tADP\tDET\tNOUN\tVERB\tADP\tPRON\tPRON\tVERB\tDET\tADV\tADJ\tNOUN\t.\tADV\tADJ\tADP\tADJ\tNOUN\t.\n",
            "GOLD:\t\tPRON\tVERB\tDET\tNOUN\tADP\tDET\tNOUN\tVERB\tADP\tPRON\tPRON\tVERB\tDET\tADV\tADJ\tNOUN\t.\tADV\tADJ\tADP\tADJ\tNOUN\t. \n",
            "\n",
            "\n",
            "SENTENCE:\the\tdeserves\ta\tbetter\tlife\tthan\tjust\trotting\taway\ton\tthe\tprieur\tplantation\t''\t.\n",
            "PREDICTED:\tNOUN\tVERB\tDET\tADJ\tNOUN\tADP\tADV\tVERB\tADV\tADP\tDET\tNOUN\tNOUN\t.\t.\n",
            "GOLD:\t\tPRON\tVERB\tDET\tADJ\tNOUN\tADP\tADV\tVERB\tADV\tADP\tDET\tNOUN\tNOUN\t.\t. \n",
            "\n",
            "\n",
            "SENTENCE:\t``\tquite\tso\t,\tmy\tdear\t.\n",
            "PREDICTED:\tNOUN\tADV\tADV\t.\tDET\tNOUN\t.\n",
            "GOLD:\t\t.\tADV\tADV\t.\tDET\tNOUN\t. \n",
            "\n",
            "\n",
            "SENTENCE:\this\troom\twill\tbe\tready\tshortly\t''\t.\n",
            "PREDICTED:\tNOUN\tNOUN\tVERB\tVERB\tADJ\tADV\t.\t.\n",
            "GOLD:\t\tDET\tNOUN\tVERB\tVERB\tADJ\tADV\t.\t. \n",
            "\n",
            "\n",
            "SENTENCE:\tthe\tphysician\tled\tthe\thorses\tto\tthe\tstable\tafter\ta\tcursory\tglance\tat\tthe\tcringing\tslave\t.\n",
            "PREDICTED:\tNOUN\tNOUN\tVERB\tDET\tNOUN\tPRT\tDET\tNOUN\tADP\tDET\tADJ\tNOUN\tADP\tDET\tVERB\tNOUN\t.\n",
            "GOLD:\t\tDET\tNOUN\tVERB\tDET\tNOUN\tADP\tDET\tNOUN\tADP\tDET\tADJ\tNOUN\tADP\tDET\tVERB\tNOUN\t. \n",
            "\n",
            "\n"
          ]
        }
      ]
    },
    {
      "cell_type": "markdown",
      "metadata": {
        "id": "AAVhPgul6u0m"
      },
      "source": [
        "### <font color='#6629b2'>Evaluation</font>\n",
        "\n",
        "We can evaluate our model with some of the standard metrics for classification: *precision*, *recall*, and *F1 score*. In the context of this task, precision is the proportion of the predicted tags for a particular class that were correct predictions (i.e. of all the words that were assigned a NOUN tag by the tagger, what percentage of these were actually nouns according to the test set?). Recall is the proportion of correct tags for a particular class that the tagger also predicted correctly (i.e. of all the words in the test set that should have been assigned a NOUN tag, what percentage of these were actually tagged as a NOUN?). F1 score is a weighted average of precision and recall. The scikit-learn package has several of these [evaluation metrics](http://scikit-learn.org/stable/modules/classes.html#sklearn-metrics-metrics) available."
      ]
    },
    {
      "cell_type": "code",
      "metadata": {
        "id": "lW-BtmTt6u0m",
        "outputId": "0bba6ffb-2d83-4d11-e9d4-ae83d81fcc3b"
      },
      "source": [
        "'''Evalute the model by precision, recall, and F1'''\n",
        "\n",
        "from sklearn.metrics import accuracy_score, precision_score, recall_score, f1_score\n",
        "\n",
        "if __name__ == '__main__':\n",
        "    all_gold_tags = [tag for sent_tags in test_sents['Tagged_Sentence'] for tag in sent_tags]\n",
        "    all_pred_tags = [tag for sent_tags in test_sents['Predicted_Tagged_Sentence'] for tag in sent_tags]\n",
        "    accuracy = accuracy_score(y_true=all_gold_tags, y_pred=all_pred_tags)\n",
        "    precision = precision_score(y_true=all_gold_tags, y_pred=all_pred_tags, average='weighted')\n",
        "    recall = recall_score(y_true=all_gold_tags, y_pred=all_pred_tags, average='weighted')\n",
        "    f1 = f1_score(y_true=all_gold_tags, y_pred=all_pred_tags, average='weighted')\n",
        "\n",
        "    print(\"ACCURACY: {:.3f}\".format(accuracy))\n",
        "    print(\"PRECISION: {:.3f}\".format(precision))\n",
        "    print(\"RECALL: {:.3f}\".format(recall))\n",
        "    print(\"F1: {:.3f}\".format(f1))\n"
      ],
      "execution_count": null,
      "outputs": [
        {
          "name": "stdout",
          "output_type": "stream",
          "text": [
            "ACCURACY: 0.897\n",
            "PRECISION: 0.908\n",
            "RECALL: 0.897\n",
            "F1: 0.898\n"
          ]
        }
      ]
    },
    {
      "cell_type": "markdown",
      "metadata": {
        "id": "J35sKHVq6u0n"
      },
      "source": [
        "### <font color='#6629b2'>Visualizing data inside the model</font>\n",
        "\n",
        "To help visualize the data representation inside the model, we can look at the output of each layer individually. Keras' Functional API lets you derive a new model with the layers from an existing model, so you can define the output to be a layer below the output layer in the original model. Calling predict() on this new model will produce the output of that layer for a given input. Of course, glancing at the numbers by themselves doesn't provide any interpretation of what the model has learned (although there are opportunities to [interpret these values](https://www.civisanalytics.com/blog/interpreting-visualizing-neural-networks-text-processing/)), but seeing them verifies the model is just a series of transformations from one matrix to another. The get_layer() function lets you retrieve any layer by the name that was assigned to it when creating the model. Below is an example of the output for the tag embedding layer for the first word in the first sentence of the test set. You can do this same thing to view any layer."
      ]
    },
    {
      "cell_type": "code",
      "metadata": {
        "id": "V8tCuuIt6u0n",
        "outputId": "df700580-468b-4616-9a24-8807c35f4cb6"
      },
      "source": [
        "'''Show the output of the tag embedding layer for the first word in the first sentence'''\n",
        "\n",
        "tag_embedding_layer = Model(inputs=[predictor_model.get_layer('word_input_layer').input,\n",
        "                                    predictor_model.get_layer('tag_input_layer').input], \n",
        "                            outputs=predictor_model.get_layer('tag_embedding_layer').output)\n",
        "#Show tag embedding used to predict first tag in sequence (word input is first word, tag input is 0)\n",
        "tag_embedding_output = tag_embedding_layer.predict([numpy.array(test_sents['Sentence_Idxs'][0][0])[None,None], \n",
        "                                                    numpy.array(0)[None,None]])\n",
        "print(\"TAG EMBEDDINGS OUTPUT SHAPE:\", tag_embedding_output.shape)\n",
        "print(tag_embedding_output[0])\n",
        "\n",
        "# check embedding, correlation values"
      ],
      "execution_count": null,
      "outputs": [
        {
          "name": "stdout",
          "output_type": "stream",
          "text": [
            "TAG EMBEDDINGS OUTPUT SHAPE: (1, 1, 100)\n",
            "[[ 0.04030772 -0.01521903 -0.01122327  0.04559968 -0.04060402 -0.02125445\n",
            "  -0.04569159  0.04556891  0.03382897  0.04436642 -0.02249571  0.01446874\n",
            "   0.03785415  0.02063607  0.0112173  -0.04073405 -0.00684955  0.03533303\n",
            "   0.0119527   0.01346546  0.00389823  0.04908235 -0.04945602 -0.04106168\n",
            "   0.01780717  0.03226806 -0.00636449  0.01396188  0.01970855  0.00895597\n",
            "  -0.01151429  0.01169025  0.03164865  0.04846541 -0.02814269  0.04745128\n",
            "   0.00717139 -0.00496722  0.04698488  0.00407878 -0.00893237 -0.01000279\n",
            "   0.04122505 -0.02401526  0.02011186 -0.0495501  -0.01492489  0.04072745\n",
            "   0.01137014 -0.0051544   0.00337183  0.01313441 -0.03503003  0.04318009\n",
            "   0.02802358 -0.03258054 -0.01480098 -0.01453636  0.01580858 -0.03383125\n",
            "  -0.01462271 -0.03466325 -0.0376377   0.04488823  0.032319   -0.02157353\n",
            "  -0.0352294   0.04680395 -0.02944789 -0.04404376  0.02607415 -0.04325482\n",
            "  -0.00075638 -0.01290952  0.03074952 -0.00708887  0.04597093 -0.01095233\n",
            "  -0.03820652 -0.00933842 -0.03661913 -0.0260995   0.01692052  0.01717171\n",
            "   0.01526024 -0.03665814  0.04056776  0.01029505  0.03434528  0.02150696\n",
            "   0.0467003   0.04177406 -0.04596078 -0.00437732 -0.04558171 -0.02063845\n",
            "  -0.00815849  0.01557176  0.04484455 -0.04033639]]\n"
          ]
        }
      ]
    },
    {
      "cell_type": "markdown",
      "metadata": {
        "id": "To6aJo5K6u0n"
      },
      "source": [
        "It is also easy to look at the weight matrices that connect the layers. The get_weights() function will show the incoming weights for a particular layer."
      ]
    },
    {
      "cell_type": "code",
      "metadata": {
        "id": "kZDbz91O6u0n"
      },
      "source": [
        "'''Show weights that connect hidden layer to output layer'''\n",
        "\n",
        "hidden_to_output_weights = predictor_model.get_layer('output_layer').get_weights()[0]\n",
        "print(\"HIDDEN-TO_OUTPUT WEIGHTS SHAPE:\", hidden_to_output_weights.shape)\n",
        "print(hidden_to_output_weights)"
      ],
      "execution_count": null,
      "outputs": []
    },
    {
      "cell_type": "markdown",
      "metadata": {
        "id": "b5Bl-BKd6u0n"
      },
      "source": [
        "## <font color='#6629b2'>Conclusion</font>\n",
        "\n",
        "Even though this model can accuractely predict many POS tags, state-of-the-art taggers use more sophisticated techniques. For example, where here we predicted a tag just based on the preceding words and tags, [bidirectional layers](https://keras.io/layers/wrappers/#bidirectional) also model the sequence that appears after the given word to additionally inform the prediction. POS tagging can be seen as a shallow version of syntactic parsing, which is a more difficult NLP problem. Where POS tagging outputs a flat sequence with a one-to-one mapping between words and tags, syntatic parsing produces a hierarchical structure where categories consist of multiple-word phrases and phrase categories are embedded inside other phrases. Check out the [chapter from Jurafsky & Martin's book](https://web.stanford.edu/~jurafsky/slp3/14.pdf) if you're interested in learning more about these deeper models of linguistic structure."
      ]
    },
    {
      "cell_type": "markdown",
      "metadata": {
        "id": "F35h-XY46u0o"
      },
      "source": [
        "## <font color='#6629b2'>More resources</font>\n",
        "\n",
        "Yoav Goldberg's book [Neural Network Methods for Natural Language Processing](http://www.morganclaypool.com/doi/abs/10.2200/S00762ED1V01Y201703HLT037) is a thorough introduction to neural networks for NLP tasks in general\n",
        "\n",
        "If you'd like to learn more about what Keras is doing under the hood, the [Theano tutorials](http://deeplearning.net/tutorial/) are useful. There is one specifically on [semantic parsing](http://deeplearning.net/tutorial/rnnslu.html#rnnslu), which is related to the POS tagging task.\n",
        "\n",
        "TensorFlow also has an RNN language model [tutorial](https://www.tensorflow.org/versions/r0.12/tutorials/recurrent/index.html) using the Penn Treebank dataset\n",
        "\n",
        "Andrej Karpathy's blog post [The Unreasonable Effectiveness of Recurrent Neural Networks](http://karpathy.github.io/2015/05/21/rnn-effectiveness/) is very helpful for understanding the underlying details of the same language model I've demonstrated here. It also provides raw Python code with an implementation of the backpropagation algorithm.\n",
        "\n",
        "Chris Olah provides a good [explanation](http://colah.github.io/posts/2015-08-Understanding-LSTMs/) of how LSTM RNNs work (this explanation also applies to the GRU model used here)\n",
        "\n",
        "Denny Britz's [tutorial](http://www.wildml.com/2015/09/recurrent-neural-networks-tutorial-part-1-introduction-to-rnns/) documents well both the technical details of RNNs and their implementation in Python.\n"
      ]
    }
  ]
}