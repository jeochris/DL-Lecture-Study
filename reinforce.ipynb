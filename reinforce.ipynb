{
  "nbformat": 4,
  "nbformat_minor": 0,
  "metadata": {
    "anaconda-cloud": {},
    "kernelspec": {
      "display_name": "Python 3",
      "language": "python",
      "name": "python3"
    },
    "language_info": {
      "codemirror_mode": {
        "name": "ipython",
        "version": 3
      },
      "file_extension": ".py",
      "mimetype": "text/x-python",
      "name": "python",
      "nbconvert_exporter": "python",
      "pygments_lexer": "ipython3",
      "version": "3.8.5"
    },
    "colab": {
      "name": "reinforce.ipynb",
      "provenance": [],
      "include_colab_link": true
    }
  },
  "cells": [
    {
      "cell_type": "markdown",
      "metadata": {
        "id": "view-in-github",
        "colab_type": "text"
      },
      "source": [
        "<a href=\"https://colab.research.google.com/github/jeochris/DL-Lecture-Study/blob/main/reinforce.ipynb\" target=\"_parent\"><img src=\"https://colab.research.google.com/assets/colab-badge.svg\" alt=\"Open In Colab\"/></a>"
      ]
    },
    {
      "cell_type": "markdown",
      "metadata": {
        "id": "BfJbC8RL_hE8"
      },
      "source": [
        "## <font color='#6629b2'>Reinforcement Learning - A Simple Python Example and a Step Closer to AI with Assisted Q-Learning</font>\n",
        "\n",
        "This tutorial is based on [here](https://amunategui.github.io/reinforcement-learning/index.html)\n",
        "\n",
        "Q-learning is a model-free reinforcement learning technique. Specifically, Q-learning can be used to find an optimal action-selection policy for any given (finite) Markov decision process (MDP). \n",
        "Machine learning is assumed to be either supervised or unsupervised but a recent new-comer broke the status-quo - reinforcement learning. Supervised and unsupervised approaches require data to model, not reinforcement learning! That’s right, it can explore space with a handful of instructions, analyze its surroundings one step at a time, and build data as it goes along for modeling.\n",
        "\n",
        "In this walk-through, we’ll use Q-learning to find the shortest path between two areas. It has the ability to embark on a journey with no knowledge of what to do next. This approach requires constant trial and error as it collects data about its surroundings and figures out how to accomplish its goal. This opens up interesting possibilities, what about recording additional information, like environmental details along the way that it may not fully understand until after it reaches its goal? And once reached, could it review that additional data to determine if any of it would have helped it reach its goal faster?"
      ]
    },
    {
      "cell_type": "code",
      "metadata": {
        "id": "5if7Ucr__hFA"
      },
      "source": [
        "import numpy as np\n",
        "import pylab as plt\n",
        "import networkx as nx"
      ],
      "execution_count": 1,
      "outputs": []
    },
    {
      "cell_type": "code",
      "metadata": {
        "id": "saTgdZu6_hFC"
      },
      "source": [
        "# map cell to cell, add circular cell to goal point\n",
        "# describing edges!\n",
        "points_list = [(0,1), (1,5), (5,6), (5,4), (1,2), (2,3), (2,7)]"
      ],
      "execution_count": 62,
      "outputs": []
    },
    {
      "cell_type": "markdown",
      "metadata": {
        "id": "r7E2hhNM_hFD"
      },
      "source": [
        "We create a points-list map that represents each direction our bot can take. Using this format allows us to easily create complex graphs but also easily visualize everything with networkx graphs.\n",
        "\n",
        "**Our starting point is 0, our goal point is 7.**"
      ]
    },
    {
      "cell_type": "code",
      "metadata": {
        "colab": {
          "base_uri": "https://localhost:8080/",
          "height": 248
        },
        "id": "hJ_zJjam_hFD",
        "outputId": "10e170ad-1690-4274-fa1a-0a0e7c2d8667"
      },
      "source": [
        "goal = 7\n",
        "\n",
        "G=nx.Graph()\n",
        "G.add_edges_from(points_list)\n",
        "pos = nx.spring_layout(G)\n",
        "nx.draw_networkx_nodes(G,pos)\n",
        "nx.draw_networkx_edges(G,pos)\n",
        "nx.draw_networkx_labels(G,pos)\n",
        "plt.show()"
      ],
      "execution_count": 63,
      "outputs": [
        {
          "output_type": "display_data",
          "data": {
            "image/png": "[encoded data removed]",
            "text/plain": [
              "<Figure size 432x288 with 1 Axes>"
            ]
          },
          "metadata": {}
        }
      ]
    },
    {
      "cell_type": "markdown",
      "metadata": {
        "id": "Ga93qr7J_hFE"
      },
      "source": [
        "The map shows that point 0 is where our bot will start its journey and point 7 is it’s final goal. The extra added points and false paths are the obstacles the bot will have to contend with. If you look at the top image, we can weave a story into this search - our bot is looking for honey, it is trying to find the hive and avoid the factory (the story-line will make sense in the second half of the article).\n",
        "\n",
        "We then create the rewards graph - this is the matrix version of our list of points map. We initialize the matrix to be the height and width of our points list (8 in this example) and initialize all values to -1:"
      ]
    },
    {
      "cell_type": "code",
      "metadata": {
        "colab": {
          "base_uri": "https://localhost:8080/"
        },
        "id": "DGP5NVnP_hFE",
        "outputId": "96c31be3-a357-4dd1-d4c4-4c57f43d3bcf"
      },
      "source": [
        "## reward setting\n",
        "# how many points in graph? x points\n",
        "MATRIX_SIZE = 8\n",
        "\n",
        "# create matrix x*y = reward matrix 8*8 (initialize with -1)\n",
        "R = np.matrix(np.ones(shape=(MATRIX_SIZE, MATRIX_SIZE)))\n",
        "R *= -1\n",
        "print(R)"
      ],
      "execution_count": 64,
      "outputs": [
        {
          "output_type": "stream",
          "name": "stdout",
          "text": [
            "[[-1. -1. -1. -1. -1. -1. -1. -1.]\n",
            " [-1. -1. -1. -1. -1. -1. -1. -1.]\n",
            " [-1. -1. -1. -1. -1. -1. -1. -1.]\n",
            " [-1. -1. -1. -1. -1. -1. -1. -1.]\n",
            " [-1. -1. -1. -1. -1. -1. -1. -1.]\n",
            " [-1. -1. -1. -1. -1. -1. -1. -1.]\n",
            " [-1. -1. -1. -1. -1. -1. -1. -1.]\n",
            " [-1. -1. -1. -1. -1. -1. -1. -1.]]\n"
          ]
        }
      ]
    },
    {
      "cell_type": "markdown",
      "metadata": {
        "id": "47uuYPLt_hFF"
      },
      "source": [
        "We then change the values to be 0 if it is a viable path and 100 if it is a goal path"
      ]
    },
    {
      "cell_type": "code",
      "metadata": {
        "colab": {
          "base_uri": "https://localhost:8080/"
        },
        "id": "ayjXdGri_hFG",
        "outputId": "a3c9b548-82fd-4919-b7ba-59f5e10c6359"
      },
      "source": [
        "# assign zeros to appropriate paths\n",
        "# 100 to goal-reaching point (reached 7)\n",
        "# -1 implies there are no path\n",
        "for point in points_list:\n",
        "    print(point)\n",
        "    if point[1] == goal:\n",
        "        R[point] = 100\n",
        "    else:\n",
        "        R[point] = 0\n",
        "\n",
        "    if point[0] == goal:\n",
        "        R[point[::-1]] = 100\n",
        "    else:\n",
        "        # reverse of point\n",
        "        R[point[::-1]]= 0\n",
        "\n",
        "# add goal point round trip\n",
        "R[goal,goal]= 100\n",
        "\n",
        "R"
      ],
      "execution_count": 65,
      "outputs": [
        {
          "output_type": "stream",
          "name": "stdout",
          "text": [
            "(0, 1)\n",
            "(1, 5)\n",
            "(5, 6)\n",
            "(5, 4)\n",
            "(1, 2)\n",
            "(2, 3)\n",
            "(2, 7)\n"
          ]
        },
        {
          "output_type": "execute_result",
          "data": {
            "text/plain": [
              "matrix([[ -1.,   0.,  -1.,  -1.,  -1.,  -1.,  -1.,  -1.],\n",
              "        [  0.,  -1.,   0.,  -1.,  -1.,   0.,  -1.,  -1.],\n",
              "        [ -1.,   0.,  -1.,   0.,  -1.,  -1.,  -1., 100.],\n",
              "        [ -1.,  -1.,   0.,  -1.,  -1.,  -1.,  -1.,  -1.],\n",
              "        [ -1.,  -1.,  -1.,  -1.,  -1.,   0.,  -1.,  -1.],\n",
              "        [ -1.,   0.,  -1.,  -1.,   0.,  -1.,   0.,  -1.],\n",
              "        [ -1.,  -1.,  -1.,  -1.,  -1.,   0.,  -1.,  -1.],\n",
              "        [ -1.,  -1.,   0.,  -1.,  -1.,  -1.,  -1., 100.]])"
            ]
          },
          "metadata": {},
          "execution_count": 65
        }
      ]
    },
    {
      "cell_type": "markdown",
      "metadata": {
        "id": "qLjZcxHn_hFH"
      },
      "source": [
        "To read the above matrix, the y-axis is the state or where your bot is currently located, and the x-axis is your possible next actions. We then build our Q-learning matrix which will hold all the lessons learned from our bot. The Q-learning model uses a transitional rule formula and gamma is the learning parameter"
      ]
    },
    {
      "cell_type": "code",
      "metadata": {
        "colab": {
          "base_uri": "https://localhost:8080/"
        },
        "id": "TuKwpnA2HfQp",
        "outputId": "7c0f29c0-ac11-4bba-e037-f8aee46511ed"
      },
      "source": [
        "# 8*8 Q-table - 8 states and 8 available movements\n",
        "Q = np.matrix(np.zeros([MATRIX_SIZE,MATRIX_SIZE]))\n",
        "\n",
        "# learning parameter\n",
        "gamma = 0.8\n",
        "\n",
        "initial_state = 1\n",
        "\n",
        "# given current state, find available movements which reward is not negative, which implies there is path\n",
        "def available_actions(state):\n",
        "    current_state_row = R[state,]\n",
        "    av_act = np.where(current_state_row >= 0)[1]\n",
        "    return av_act\n",
        "\n",
        "available_act = available_actions(initial_state)\n",
        "print(available_act)"
      ],
      "execution_count": 66,
      "outputs": [
        {
          "output_type": "stream",
          "name": "stdout",
          "text": [
            "[0 2 5]\n"
          ]
        }
      ]
    },
    {
      "cell_type": "code",
      "metadata": {
        "colab": {
          "base_uri": "https://localhost:8080/"
        },
        "id": "MulWhUG3HoXA",
        "outputId": "add24046-1369-460a-f5d8-618d4a2da569"
      },
      "source": [
        "# Among available actions, choose randomly one movement\n",
        "def sample_next_action(available_actions_range):\n",
        "    next_action = int(np.random.choice(available_act,1))\n",
        "    return next_action\n",
        "\n",
        "action = sample_next_action(available_act)\n",
        "print(action)"
      ],
      "execution_count": 34,
      "outputs": [
        {
          "output_type": "stream",
          "name": "stdout",
          "text": [
            "2\n"
          ]
        }
      ]
    },
    {
      "cell_type": "code",
      "metadata": {
        "colab": {
          "base_uri": "https://localhost:8080/"
        },
        "id": "WYXGOXIb_hFH",
        "outputId": "eb4591f1-be49-4da9-85d6-c0f318de06a2"
      },
      "source": [
        "# updates Q-table with iterative Bellman equation\n",
        "def update(current_state, action, gamma):\n",
        "  \n",
        "  # finds maximum value of Q for given action\n",
        "  max_index = np.where(Q[action,] == np.max(Q[action,]))[1]\n",
        "  \n",
        "  # if Q[action,] = [1,1,0,0] => multiple max values\n",
        "  # choose randomly one\n",
        "  if max_index.shape[0] > 1:\n",
        "      max_index = int(np.random.choice(max_index, size = 1))\n",
        "  # otherwise\n",
        "  else:\n",
        "      max_index = int(max_index)\n",
        "\n",
        "  # max value chosen\n",
        "  max_value = Q[action, max_index]\n",
        "  \n",
        "  # Q-table update\n",
        "  # Q[current_state, action] : time t\n",
        "  # Q[action, max_index] : time t+1\n",
        "  Q[current_state, action] = R[current_state, action] + gamma * max_value\n",
        "  # print('max_value', R[current_state, action] + gamma * max_value)\n",
        "  \n",
        "  if (np.max(Q) > 0):\n",
        "    # standardized\n",
        "    return(np.sum(Q/np.max(Q)*100)) # score of total Q-table sum: as RL works well, Q-table is large\n",
        "  else:\n",
        "    return (0)\n",
        "    \n",
        "update(initial_state, action, gamma)"
      ],
      "execution_count": 67,
      "outputs": [
        {
          "output_type": "execute_result",
          "data": {
            "text/plain": [
              "0"
            ]
          },
          "metadata": {},
          "execution_count": 67
        }
      ]
    },
    {
      "cell_type": "markdown",
      "metadata": {
        "id": "hJk9smkI_hFI"
      },
      "source": [
        "run the training and testing functions that will run the update function 700 times allowing the Q-learning model to figure out the most efficient path:"
      ]
    },
    {
      "cell_type": "code",
      "metadata": {
        "colab": {
          "base_uri": "https://localhost:8080/"
        },
        "id": "pxhlE3I-_hFI",
        "outputId": "2cd42cd8-b887-4bb2-aa18-c3ee82801143"
      },
      "source": [
        "# Training\n",
        "scores = []\n",
        "# 700 scenarios = update Q-table 700 times\n",
        "for i in range(700):\n",
        "    current_state = np.random.randint(0, int(Q.shape[0]))\n",
        "    available_act = available_actions(current_state)\n",
        "    action = sample_next_action(available_act)\n",
        "    score = update(current_state,action,gamma)\n",
        "    scores.append(score)\n",
        "    # print ('Score:', str(score))\n",
        "    \n",
        "print(\"Trained Q matrix:\")\n",
        "print(Q/np.max(Q)*100)"
      ],
      "execution_count": 68,
      "outputs": [
        {
          "output_type": "stream",
          "name": "stdout",
          "text": [
            "Trained Q matrix:\n",
            "[[  0.          64.           0.           0.           0.\n",
            "    0.           0.           0.        ]\n",
            " [ 51.11423481   0.          80.           0.           0.\n",
            "   51.11423481   0.           0.        ]\n",
            " [  0.          63.89279351   0.          63.99584508   0.\n",
            "    0.           0.         100.        ]\n",
            " [  0.           0.          80.           0.           0.\n",
            "    0.           0.           0.        ]\n",
            " [  0.           0.           0.           0.           0.\n",
            "   51.11423481   0.           0.        ]\n",
            " [  0.          63.89279351   0.           0.          40.89138785\n",
            "    0.          40.89138785   0.        ]\n",
            " [  0.           0.           0.           0.           0.\n",
            "   51.11423481   0.           0.        ]\n",
            " [  0.           0.          79.97005539   0.           0.\n",
            "    0.           0.          99.99350794]]\n"
          ]
        }
      ]
    },
    {
      "cell_type": "code",
      "metadata": {
        "colab": {
          "base_uri": "https://localhost:8080/",
          "height": 302
        },
        "id": "U17Rmi8oKEWQ",
        "outputId": "134f8843-4cb3-4c3a-fb96-2e7c94f24070"
      },
      "source": [
        "# Testing - Finding most efficient path to arrive at location\n",
        "current_state = 0\n",
        "steps = [current_state]\n",
        "\n",
        "# until reach destination\n",
        "while current_state != 7:\n",
        "\n",
        "    # pick biggest action from Q-table\n",
        "    next_step_index = np.where(Q[current_state,] == np.max(Q[current_state,]))[1]\n",
        "    \n",
        "    # also multiple max possible\n",
        "    if next_step_index.shape[0] > 1:\n",
        "        next_step_index = int(np.random.choice(next_step_index, size = 1))\n",
        "    else:\n",
        "        next_step_index = int(next_step_index)\n",
        "    \n",
        "    steps.append(next_step_index)\n",
        "    current_state = next_step_index\n",
        "\n",
        "print(\"Most efficient path:\")\n",
        "print(steps) # found shortest path!\n",
        "\n",
        "# training plot - score increase\n",
        "# goes stable later\n",
        "plt.plot(scores)\n",
        "plt.show()"
      ],
      "execution_count": 69,
      "outputs": [
        {
          "output_type": "stream",
          "name": "stdout",
          "text": [
            "Most efficient path:\n",
            "[0, 1, 2, 7]\n"
          ]
        },
        {
          "output_type": "display_data",
          "data": {
            "image/png": "[encoded data removed]",
            "text/plain": [
              "<Figure size 432x288 with 1 Axes>"
            ]
          },
          "metadata": {
            "needs_background": "light"
          }
        }
      ]
    },
    {
      "cell_type": "markdown",
      "metadata": {
        "id": "gJb0ueFM_hFJ"
      },
      "source": [
        "We see that the model did correctly find the most efficient path from the starting node 0 to the goal node 7 and took around 400 iterations to converge to a solution.\n"
      ]
    },
    {
      "cell_type": "markdown",
      "metadata": {
        "id": "Si0rPLsu_hFJ"
      },
      "source": [
        "## <font color='#6629b2'>Version 2.0, with Environmental Details</font>\n",
        "\n",
        "Now let’s take this a step further, look at the top image again, notice how the factory is surrounded by smoke and the hive, by bees. Let’s assume that bees don’t like smoke or factories, thus there will never be a hive or bees around smoke. What if our bot could record those environmental factors and turn them into actionable insight? Whenever the bot finds smoke it can turn around immediately instead of continuing to the factory, whenever it finds bees, it can stick around and assume the hive it close."
      ]
    },
    {
      "cell_type": "code",
      "metadata": {
        "colab": {
          "base_uri": "https://localhost:8080/",
          "height": 248
        },
        "id": "UJl15nU6_hFJ",
        "outputId": "3d111519-7ce3-4bbd-9080-5eb23f16b2f2"
      },
      "source": [
        "bees = [2]\n",
        "smoke = [4,5,6]\n",
        "\n",
        "G=nx.Graph()\n",
        "G.add_edges_from(points_list)\n",
        "mapping={0:'Start', 1:'1', 2:'2 - Bees', 3:'3', 4:'4 - Smoke', 5:'5 - Smoke', 6:'6 - Smoke', 7:'7 - Beehive'} \n",
        "H=nx.relabel_nodes(G,mapping) \n",
        "pos = nx.spring_layout(H)\n",
        "nx.draw_networkx_nodes(H,pos, node_size=[200,200,200,200,200,200,200,200])\n",
        "nx.draw_networkx_edges(H,pos)\n",
        "nx.draw_networkx_labels(H,pos)\n",
        "plt.show()\n",
        "\n",
        "# Bees : indicate beehive is nearby => put positive signal\n",
        "# Smoke : bad signal"
      ],
      "execution_count": 70,
      "outputs": [
        {
          "output_type": "display_data",
          "data": {
            "image/png": "[encoded data removed]",
            "text/plain": [
              "<Figure size 432x288 with 1 Axes>"
            ]
          },
          "metadata": {}
        }
      ]
    },
    {
      "cell_type": "markdown",
      "metadata": {
        "id": "rV6J45cS_hFK"
      },
      "source": [
        "We assign node 2 as having bees and nodes 4,5,6 as having smoke. Our Q-learning bot doesn’t know yet that there are bees or smoke there nor does it know that bees are good and smoke bad in finding hives. The bot needs to do another run like we just did, but this time it needs to collect environmental factors.\n",
        "\n",
        "Here is the new update function with the capability of updating the Q-learning scores when if finds either bees or smoke."
      ]
    },
    {
      "cell_type": "code",
      "metadata": {
        "colab": {
          "base_uri": "https://localhost:8080/"
        },
        "id": "9ieyyhysWlVb",
        "outputId": "0058390d-8d42-464a-9336-b97d9e5f0cf5"
      },
      "source": [
        "# re-initialize the matrices for new run\n",
        "Q = np.matrix(np.zeros([MATRIX_SIZE,MATRIX_SIZE]))\n",
        "\n",
        "# additional matrix\n",
        "enviro_bees = np.matrix(np.zeros([MATRIX_SIZE,MATRIX_SIZE]))\n",
        "enviro_smoke = np.matrix(np.zeros([MATRIX_SIZE,MATRIX_SIZE]))\n",
        " \n",
        "initial_state = 1\n",
        "\n",
        "# same (not negative)\n",
        "def available_actions(state):\n",
        "    current_state_row = R[state,]\n",
        "    av_act = np.where(current_state_row >= 0)[1]\n",
        "    return av_act\n",
        "\n",
        "available_act = available_actions(initial_state)\n",
        "print(available_act)"
      ],
      "execution_count": 73,
      "outputs": [
        {
          "output_type": "stream",
          "name": "stdout",
          "text": [
            "[0 2 5]\n"
          ]
        }
      ]
    },
    {
      "cell_type": "code",
      "metadata": {
        "colab": {
          "base_uri": "https://localhost:8080/"
        },
        "id": "l2Micad4W5GV",
        "outputId": "4aa71afd-8c29-471e-fe3d-d3e7ca6e63ae"
      },
      "source": [
        "def sample_next_action(available_actions_range):\n",
        "    next_action = int(np.random.choice(available_act,1))\n",
        "    return next_action\n",
        "\n",
        "action = sample_next_action(available_act)\n",
        "print(action)"
      ],
      "execution_count": 74,
      "outputs": [
        {
          "output_type": "stream",
          "name": "stdout",
          "text": [
            "0\n"
          ]
        }
      ]
    },
    {
      "cell_type": "code",
      "metadata": {
        "id": "O2fnf6uLXK03"
      },
      "source": [
        "# check whether some environment for given action (next state)\n",
        "def collect_environmental_data(action):\n",
        "    found = []\n",
        "    if action in bees:\n",
        "        found.append('b')\n",
        "\n",
        "    if action in smoke:\n",
        "        found.append('s')\n",
        "    return (found)"
      ],
      "execution_count": 75,
      "outputs": []
    },
    {
      "cell_type": "code",
      "metadata": {
        "colab": {
          "base_uri": "https://localhost:8080/"
        },
        "id": "oKoQqonzXVez",
        "outputId": "23731924-9e16-4c18-919f-97cad48d0774"
      },
      "source": [
        "def update(current_state, action, gamma):\n",
        "  max_index = np.where(Q[action,] == np.max(Q[action,]))[1]\n",
        "  \n",
        "  if max_index.shape[0] > 1:\n",
        "      max_index = int(np.random.choice(max_index, size = 1))\n",
        "  else:\n",
        "      max_index = int(max_index)\n",
        "  max_value = Q[action, max_index]\n",
        "  \n",
        "  Q[current_state, action] = R[current_state, action] + gamma * max_value\n",
        "  # print('max_value', R[current_state, action] + gamma * max_value)\n",
        "  \n",
        "  # part added\n",
        "  environment = collect_environmental_data(action)\n",
        "  if 'b' in environment: \n",
        "    # mark\n",
        "    enviro_bees[current_state, action] += 1\n",
        "  \n",
        "  if 's' in environment: \n",
        "    enviro_smoke[current_state, action] += 1\n",
        "  \n",
        "  if (np.max(Q) > 0):\n",
        "    return(np.sum(Q/np.max(Q)*100))\n",
        "  else:\n",
        "    return (0)\n",
        "\n",
        "update(initial_state,action,gamma)"
      ],
      "execution_count": 76,
      "outputs": [
        {
          "output_type": "execute_result",
          "data": {
            "text/plain": [
              "0"
            ]
          },
          "metadata": {},
          "execution_count": 76
        }
      ]
    },
    {
      "cell_type": "code",
      "metadata": {
        "id": "y1NayXjhYC7j"
      },
      "source": [
        "# Training\n",
        "scores = []\n",
        "for i in range(700):\n",
        "    current_state = np.random.randint(0, int(Q.shape[0]))\n",
        "    available_act = available_actions(current_state)\n",
        "    action = sample_next_action(available_act)\n",
        "    score = update(current_state,action,gamma)"
      ],
      "execution_count": 77,
      "outputs": []
    },
    {
      "cell_type": "code",
      "metadata": {
        "colab": {
          "base_uri": "https://localhost:8080/"
        },
        "id": "ctq8USgu_hFK",
        "outputId": "717fec50-f3bf-4382-bc73-55ec29699472"
      },
      "source": [
        "# print environmental matrices\n",
        "print('Bees Found')\n",
        "print(enviro_bees)\n",
        "print('Smoke Found')\n",
        "print(enviro_smoke)\n",
        "\n",
        "# current 1, action (next state) 2 => bee found"
      ],
      "execution_count": 78,
      "outputs": [
        {
          "output_type": "stream",
          "name": "stdout",
          "text": [
            "Bees Found\n",
            "[[ 0.  0.  0.  0.  0.  0.  0.  0.]\n",
            " [ 0.  0. 32.  0.  0.  0.  0.  0.]\n",
            " [ 0.  0.  0.  0.  0.  0.  0.  0.]\n",
            " [ 0.  0. 78.  0.  0.  0.  0.  0.]\n",
            " [ 0.  0.  0.  0.  0.  0.  0.  0.]\n",
            " [ 0.  0.  0.  0.  0.  0.  0.  0.]\n",
            " [ 0.  0.  0.  0.  0.  0.  0.  0.]\n",
            " [ 0.  0. 32.  0.  0.  0.  0.  0.]]\n",
            "Smoke Found\n",
            "[[ 0.  0.  0.  0.  0.  0.  0.  0.]\n",
            " [ 0.  0.  0.  0.  0. 32.  0.  0.]\n",
            " [ 0.  0.  0.  0.  0.  0.  0.  0.]\n",
            " [ 0.  0.  0.  0.  0.  0.  0.  0.]\n",
            " [ 0.  0.  0.  0.  0. 76.  0.  0.]\n",
            " [ 0.  0.  0.  0. 24.  0. 23.  0.]\n",
            " [ 0.  0.  0.  0.  0. 97.  0.  0.]\n",
            " [ 0.  0.  0.  0.  0.  0.  0.  0.]]\n"
          ]
        }
      ]
    },
    {
      "cell_type": "markdown",
      "metadata": {
        "id": "T-evoz84_hFL"
      },
      "source": [
        "The environmental matrices show how many bees and smoke the bot found during its journey while searching for the most efficient path to the hive. To make this walk-through simpler, I am assuming two things - we modeled the environmental data and found out that the bees have a positive coefficient on finding hives, and smoke, a negative one. And we are going to reuse the environmental matrix already mapped out for our landscape, a more realistic approach would be to dynamically look at a new environment and assign environmental biases as they are encountered."
      ]
    },
    {
      "cell_type": "code",
      "metadata": {
        "id": "Sxs5VnUkY4aV"
      },
      "source": [
        "# using environment part\n",
        "\n",
        "Q = np.matrix(np.zeros([MATRIX_SIZE,MATRIX_SIZE]))\n",
        "\n",
        "# subtract bees with smoke, this gives smoke a negative effect and bee a positive\n",
        "enviro_matrix = enviro_bees - enviro_smoke\n",
        "\n",
        "# Get available actions in the current state\n",
        "available_act = available_actions(initial_state) \n",
        "\n",
        "# Sample next action to be performed\n",
        "action = sample_next_action(available_act)"
      ],
      "execution_count": 79,
      "outputs": []
    },
    {
      "cell_type": "code",
      "metadata": {
        "colab": {
          "base_uri": "https://localhost:8080/"
        },
        "id": "tkhtr-TaZOBP",
        "outputId": "bbd03504-d16e-4794-e17b-11879c0ea0e0"
      },
      "source": [
        "# same part\n",
        "# This function updates the Q matrix according to the path selected and the Q \n",
        "# learning algorithm\n",
        "def update(current_state, action, gamma):\n",
        "    \n",
        "    max_index = np.where(Q[action,] == np.max(Q[action,]))[1]\n",
        "\n",
        "    if max_index.shape[0] > 1:\n",
        "        max_index = int(np.random.choice(max_index, size = 1))\n",
        "    else:\n",
        "        max_index = int(max_index)\n",
        "    max_value = Q[action, max_index]\n",
        "\n",
        "    Q[current_state, action] = R[current_state, action] + gamma * max_value\n",
        "    # print('max_value', R[current_state, action] + gamma * max_value)\n",
        "\n",
        "    environment = collect_environmental_data(action)\n",
        "    if 'b' in environment: \n",
        "        enviro_matrix[current_state, action] += 1\n",
        "    if 's' in environment: \n",
        "        enviro_matrix[current_state, action] -= 1\n",
        "\n",
        "    return(np.sum(Q/np.max(Q)*100))\n",
        "\n",
        "update(initial_state,action,gamma)"
      ],
      "execution_count": 80,
      "outputs": [
        {
          "output_type": "stream",
          "name": "stderr",
          "text": [
            "/usr/local/lib/python3.7/dist-packages/ipykernel_launcher.py:23: RuntimeWarning: invalid value encountered in true_divide\n"
          ]
        },
        {
          "output_type": "execute_result",
          "data": {
            "text/plain": [
              "nan"
            ]
          },
          "metadata": {},
          "execution_count": 80
        }
      ]
    },
    {
      "cell_type": "code",
      "metadata": {
        "colab": {
          "base_uri": "https://localhost:8080/"
        },
        "id": "TjvORRv0bHM4",
        "outputId": "dbd9ad56-50d7-4d00-c2d2-3b2140396574"
      },
      "source": [
        "enviro_matrix_snap = enviro_matrix.copy()\n",
        "print(enviro_matrix_snap)"
      ],
      "execution_count": 81,
      "outputs": [
        {
          "output_type": "stream",
          "name": "stdout",
          "text": [
            "[[  0.   0.   0.   0.   0.   0.   0.   0.]\n",
            " [  0.   0.  33.   0.   0. -32.   0.   0.]\n",
            " [  0.   0.   0.   0.   0.   0.   0.   0.]\n",
            " [  0.   0.  78.   0.   0.   0.   0.   0.]\n",
            " [  0.   0.   0.   0.   0. -76.   0.   0.]\n",
            " [  0.   0.   0.   0. -24.   0. -23.   0.]\n",
            " [  0.   0.   0.   0.   0. -97.   0.   0.]\n",
            " [  0.   0.  32.   0.   0.   0.   0.   0.]]\n"
          ]
        }
      ]
    },
    {
      "cell_type": "code",
      "metadata": {
        "colab": {
          "base_uri": "https://localhost:8080/"
        },
        "id": "vbuNhfsmbXa6",
        "outputId": "5ba816a1-7b9f-49da-a834-7c31b7a31e16"
      },
      "source": [
        "print(enviro_matrix_snap[1,[2,5]])\n",
        "print(np.sum(enviro_matrix_snap[1,[2,5]]))"
      ],
      "execution_count": 82,
      "outputs": [
        {
          "output_type": "stream",
          "name": "stdout",
          "text": [
            "[[ 33. -32.]]\n",
            "1.0\n"
          ]
        }
      ]
    },
    {
      "cell_type": "code",
      "metadata": {
        "id": "Iw3eKV_zcJ10"
      },
      "source": [
        "# alternative choosing available action function considering environment\n",
        "def available_actions_with_enviro_help(state):\n",
        "    current_state_row = R[state,]\n",
        "    # same - choose not negative\n",
        "    av_act = np.where(current_state_row >= 0)[1]\n",
        "\n",
        "    # if there are multiple routes, dis-favor anything negative\n",
        "    env_pos_row = enviro_matrix_snap[state,av_act]\n",
        "    if (np.sum(env_pos_row < 0)):\n",
        "\n",
        "        # remove negative directions from av_act, if any\n",
        "        # only take positive ones\n",
        "        temp_av_act = av_act[np.array(env_pos_row)[0]>=0]\n",
        "        if len(temp_av_act) > 0:\n",
        "            print('going from:',av_act)\n",
        "            print('to:',temp_av_act)\n",
        "            av_act = temp_av_act\n",
        "    return av_act"
      ],
      "execution_count": 83,
      "outputs": []
    },
    {
      "cell_type": "code",
      "metadata": {
        "colab": {
          "base_uri": "https://localhost:8080/"
        },
        "id": "VmEakTXQ_hFL",
        "outputId": "4c020990-bb66-4b5c-fa2e-3fd9e149045e"
      },
      "source": [
        "# Training\n",
        "scores = []\n",
        "for i in range(700):\n",
        "    current_state = np.random.randint(0, int(Q.shape[0]))\n",
        "    available_act = available_actions_with_enviro_help(current_state)\n",
        "    action = sample_next_action(available_act)\n",
        "    score = update(current_state,action,gamma)\n",
        "    scores.append(score)\n",
        "    # print ('Score:', str(score))"
      ],
      "execution_count": 84,
      "outputs": [
        {
          "output_type": "stream",
          "name": "stderr",
          "text": [
            "/usr/local/lib/python3.7/dist-packages/ipykernel_launcher.py:23: RuntimeWarning: invalid value encountered in true_divide\n"
          ]
        },
        {
          "output_type": "stream",
          "name": "stdout",
          "text": [
            "going from: [1 4 6]\n",
            "to: [1]\n",
            "going from: [0 2 5]\n",
            "to: [0 2]\n",
            "going from: [0 2 5]\n",
            "to: [0 2]\n",
            "going from: [1 4 6]\n",
            "to: [1]\n",
            "going from: [1 4 6]\n",
            "to: [1]\n",
            "going from: [1 4 6]\n",
            "to: [1]\n",
            "going from: [0 2 5]\n",
            "to: [0 2]\n",
            "going from: [0 2 5]\n",
            "to: [0 2]\n",
            "going from: [0 2 5]\n",
            "to: [0 2]\n",
            "going from: [1 4 6]\n",
            "to: [1]\n",
            "going from: [1 4 6]\n",
            "to: [1]\n",
            "going from: [0 2 5]\n",
            "to: [0 2]\n",
            "going from: [1 4 6]\n",
            "to: [1]\n",
            "going from: [1 4 6]\n",
            "to: [1]\n",
            "going from: [1 4 6]\n",
            "to: [1]\n",
            "going from: [1 4 6]\n",
            "to: [1]\n",
            "going from: [1 4 6]\n",
            "to: [1]\n",
            "going from: [1 4 6]\n",
            "to: [1]\n",
            "going from: [0 2 5]\n",
            "to: [0 2]\n",
            "going from: [0 2 5]\n",
            "to: [0 2]\n",
            "going from: [0 2 5]\n",
            "to: [0 2]\n",
            "going from: [1 4 6]\n",
            "to: [1]\n",
            "going from: [0 2 5]\n",
            "to: [0 2]\n",
            "going from: [0 2 5]\n",
            "to: [0 2]\n",
            "going from: [0 2 5]\n",
            "to: [0 2]\n",
            "going from: [1 4 6]\n",
            "to: [1]\n",
            "going from: [0 2 5]\n",
            "to: [0 2]\n",
            "going from: [0 2 5]\n",
            "to: [0 2]\n",
            "going from: [0 2 5]\n",
            "to: [0 2]\n",
            "going from: [0 2 5]\n",
            "to: [0 2]\n",
            "going from: [0 2 5]\n",
            "to: [0 2]\n",
            "going from: [1 4 6]\n",
            "to: [1]\n",
            "going from: [0 2 5]\n",
            "to: [0 2]\n",
            "going from: [0 2 5]\n",
            "to: [0 2]\n",
            "going from: [1 4 6]\n",
            "to: [1]\n",
            "going from: [1 4 6]\n",
            "to: [1]\n",
            "going from: [1 4 6]\n",
            "to: [1]\n",
            "going from: [1 4 6]\n",
            "to: [1]\n",
            "going from: [1 4 6]\n",
            "to: [1]\n",
            "going from: [0 2 5]\n",
            "to: [0 2]\n",
            "going from: [1 4 6]\n",
            "to: [1]\n",
            "going from: [1 4 6]\n",
            "to: [1]\n",
            "going from: [0 2 5]\n",
            "to: [0 2]\n",
            "going from: [1 4 6]\n",
            "to: [1]\n",
            "going from: [0 2 5]\n",
            "to: [0 2]\n",
            "going from: [1 4 6]\n",
            "to: [1]\n",
            "going from: [1 4 6]\n",
            "to: [1]\n",
            "going from: [0 2 5]\n",
            "to: [0 2]\n",
            "going from: [1 4 6]\n",
            "to: [1]\n",
            "going from: [1 4 6]\n",
            "to: [1]\n",
            "going from: [0 2 5]\n",
            "to: [0 2]\n",
            "going from: [1 4 6]\n",
            "to: [1]\n",
            "going from: [1 4 6]\n",
            "to: [1]\n",
            "going from: [1 4 6]\n",
            "to: [1]\n",
            "going from: [0 2 5]\n",
            "to: [0 2]\n",
            "going from: [0 2 5]\n",
            "to: [0 2]\n",
            "going from: [1 4 6]\n",
            "to: [1]\n",
            "going from: [0 2 5]\n",
            "to: [0 2]\n",
            "going from: [0 2 5]\n",
            "to: [0 2]\n",
            "going from: [0 2 5]\n",
            "to: [0 2]\n",
            "going from: [0 2 5]\n",
            "to: [0 2]\n",
            "going from: [0 2 5]\n",
            "to: [0 2]\n",
            "going from: [1 4 6]\n",
            "to: [1]\n",
            "going from: [0 2 5]\n",
            "to: [0 2]\n",
            "going from: [1 4 6]\n",
            "to: [1]\n",
            "going from: [1 4 6]\n",
            "to: [1]\n",
            "going from: [1 4 6]\n",
            "to: [1]\n",
            "going from: [1 4 6]\n",
            "to: [1]\n",
            "going from: [0 2 5]\n",
            "to: [0 2]\n",
            "going from: [1 4 6]\n",
            "to: [1]\n",
            "going from: [1 4 6]\n",
            "to: [1]\n",
            "going from: [1 4 6]\n",
            "to: [1]\n",
            "going from: [1 4 6]\n",
            "to: [1]\n",
            "going from: [1 4 6]\n",
            "to: [1]\n",
            "going from: [0 2 5]\n",
            "to: [0 2]\n",
            "going from: [0 2 5]\n",
            "to: [0 2]\n",
            "going from: [0 2 5]\n",
            "to: [0 2]\n",
            "going from: [1 4 6]\n",
            "to: [1]\n",
            "going from: [1 4 6]\n",
            "to: [1]\n",
            "going from: [1 4 6]\n",
            "to: [1]\n",
            "going from: [0 2 5]\n",
            "to: [0 2]\n",
            "going from: [0 2 5]\n",
            "to: [0 2]\n",
            "going from: [0 2 5]\n",
            "to: [0 2]\n",
            "going from: [1 4 6]\n",
            "to: [1]\n",
            "going from: [0 2 5]\n",
            "to: [0 2]\n",
            "going from: [1 4 6]\n",
            "to: [1]\n",
            "going from: [1 4 6]\n",
            "to: [1]\n",
            "going from: [0 2 5]\n",
            "to: [0 2]\n",
            "going from: [1 4 6]\n",
            "to: [1]\n",
            "going from: [1 4 6]\n",
            "to: [1]\n",
            "going from: [1 4 6]\n",
            "to: [1]\n",
            "going from: [1 4 6]\n",
            "to: [1]\n",
            "going from: [1 4 6]\n",
            "to: [1]\n",
            "going from: [0 2 5]\n",
            "to: [0 2]\n",
            "going from: [0 2 5]\n",
            "to: [0 2]\n",
            "going from: [1 4 6]\n",
            "to: [1]\n",
            "going from: [1 4 6]\n",
            "to: [1]\n",
            "going from: [1 4 6]\n",
            "to: [1]\n",
            "going from: [1 4 6]\n",
            "to: [1]\n",
            "going from: [1 4 6]\n",
            "to: [1]\n",
            "going from: [0 2 5]\n",
            "to: [0 2]\n",
            "going from: [1 4 6]\n",
            "to: [1]\n",
            "going from: [1 4 6]\n",
            "to: [1]\n",
            "going from: [0 2 5]\n",
            "to: [0 2]\n",
            "going from: [0 2 5]\n",
            "to: [0 2]\n",
            "going from: [0 2 5]\n",
            "to: [0 2]\n",
            "going from: [0 2 5]\n",
            "to: [0 2]\n",
            "going from: [1 4 6]\n",
            "to: [1]\n",
            "going from: [0 2 5]\n",
            "to: [0 2]\n",
            "going from: [1 4 6]\n",
            "to: [1]\n",
            "going from: [0 2 5]\n",
            "to: [0 2]\n",
            "going from: [1 4 6]\n",
            "to: [1]\n",
            "going from: [0 2 5]\n",
            "to: [0 2]\n",
            "going from: [1 4 6]\n",
            "to: [1]\n",
            "going from: [0 2 5]\n",
            "to: [0 2]\n",
            "going from: [0 2 5]\n",
            "to: [0 2]\n",
            "going from: [1 4 6]\n",
            "to: [1]\n",
            "going from: [1 4 6]\n",
            "to: [1]\n",
            "going from: [0 2 5]\n",
            "to: [0 2]\n",
            "going from: [1 4 6]\n",
            "to: [1]\n",
            "going from: [0 2 5]\n",
            "to: [0 2]\n",
            "going from: [0 2 5]\n",
            "to: [0 2]\n",
            "going from: [1 4 6]\n",
            "to: [1]\n",
            "going from: [0 2 5]\n",
            "to: [0 2]\n",
            "going from: [1 4 6]\n",
            "to: [1]\n",
            "going from: [0 2 5]\n",
            "to: [0 2]\n",
            "going from: [0 2 5]\n",
            "to: [0 2]\n",
            "going from: [1 4 6]\n",
            "to: [1]\n",
            "going from: [0 2 5]\n",
            "to: [0 2]\n",
            "going from: [1 4 6]\n",
            "to: [1]\n",
            "going from: [0 2 5]\n",
            "to: [0 2]\n",
            "going from: [0 2 5]\n",
            "to: [0 2]\n",
            "going from: [1 4 6]\n",
            "to: [1]\n",
            "going from: [1 4 6]\n",
            "to: [1]\n",
            "going from: [1 4 6]\n",
            "to: [1]\n",
            "going from: [1 4 6]\n",
            "to: [1]\n",
            "going from: [1 4 6]\n",
            "to: [1]\n",
            "going from: [1 4 6]\n",
            "to: [1]\n",
            "going from: [1 4 6]\n",
            "to: [1]\n",
            "going from: [1 4 6]\n",
            "to: [1]\n",
            "going from: [0 2 5]\n",
            "to: [0 2]\n",
            "going from: [1 4 6]\n",
            "to: [1]\n",
            "going from: [0 2 5]\n",
            "to: [0 2]\n",
            "going from: [0 2 5]\n",
            "to: [0 2]\n",
            "going from: [1 4 6]\n",
            "to: [1]\n",
            "going from: [0 2 5]\n",
            "to: [0 2]\n",
            "going from: [0 2 5]\n",
            "to: [0 2]\n",
            "going from: [0 2 5]\n",
            "to: [0 2]\n",
            "going from: [1 4 6]\n",
            "to: [1]\n",
            "going from: [0 2 5]\n",
            "to: [0 2]\n",
            "going from: [1 4 6]\n",
            "to: [1]\n",
            "going from: [0 2 5]\n",
            "to: [0 2]\n",
            "going from: [1 4 6]\n",
            "to: [1]\n",
            "going from: [0 2 5]\n",
            "to: [0 2]\n",
            "going from: [0 2 5]\n",
            "to: [0 2]\n",
            "going from: [1 4 6]\n",
            "to: [1]\n",
            "going from: [0 2 5]\n",
            "to: [0 2]\n",
            "going from: [0 2 5]\n",
            "to: [0 2]\n",
            "going from: [1 4 6]\n",
            "to: [1]\n",
            "going from: [1 4 6]\n",
            "to: [1]\n",
            "going from: [1 4 6]\n",
            "to: [1]\n",
            "going from: [1 4 6]\n",
            "to: [1]\n",
            "going from: [0 2 5]\n",
            "to: [0 2]\n",
            "going from: [0 2 5]\n",
            "to: [0 2]\n",
            "going from: [1 4 6]\n",
            "to: [1]\n",
            "going from: [1 4 6]\n",
            "to: [1]\n",
            "going from: [1 4 6]\n",
            "to: [1]\n",
            "going from: [0 2 5]\n",
            "to: [0 2]\n",
            "going from: [1 4 6]\n",
            "to: [1]\n",
            "going from: [1 4 6]\n",
            "to: [1]\n",
            "going from: [0 2 5]\n",
            "to: [0 2]\n",
            "going from: [0 2 5]\n",
            "to: [0 2]\n",
            "going from: [0 2 5]\n",
            "to: [0 2]\n",
            "going from: [0 2 5]\n",
            "to: [0 2]\n",
            "going from: [0 2 5]\n",
            "to: [0 2]\n",
            "going from: [1 4 6]\n",
            "to: [1]\n",
            "going from: [0 2 5]\n",
            "to: [0 2]\n",
            "going from: [1 4 6]\n",
            "to: [1]\n",
            "going from: [0 2 5]\n",
            "to: [0 2]\n",
            "going from: [0 2 5]\n",
            "to: [0 2]\n",
            "going from: [0 2 5]\n",
            "to: [0 2]\n",
            "going from: [1 4 6]\n",
            "to: [1]\n",
            "going from: [1 4 6]\n",
            "to: [1]\n"
          ]
        }
      ]
    },
    {
      "cell_type": "code",
      "metadata": {
        "colab": {
          "base_uri": "https://localhost:8080/",
          "height": 265
        },
        "id": "CYLeAfW5_hFM",
        "outputId": "8a979f52-3b17-4eff-c28b-d2477cda045b"
      },
      "source": [
        "plt.plot(scores)\n",
        "plt.show()\n",
        "# better than previous one - robots have higher score after we trained like 200 times\n",
        "# environment setting worked!"
      ],
      "execution_count": 85,
      "outputs": [
        {
          "output_type": "display_data",
          "data": {
            "image/png": "[encoded data removed]",
            "text/plain": [
              "<Figure size 432x288 with 1 Axes>"
            ]
          },
          "metadata": {
            "needs_background": "light"
          }
        }
      ]
    },
    {
      "cell_type": "markdown",
      "metadata": {
        "id": "aSyB61Pi_hFL"
      },
      "source": [
        "We see that the bot converges in less tries, say around 100 less, than our original model. This isn’t meant to be a controlled environment to compare both approaches, instead it’s about triggering thoughts on different ways of applying reinforced learning for discovery…"
      ]
    }
  ]
}