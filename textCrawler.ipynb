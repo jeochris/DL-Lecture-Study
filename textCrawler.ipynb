{
  "nbformat": 4,
  "nbformat_minor": 0,
  "metadata": {
    "anaconda-cloud": {},
    "kernelspec": {
      "display_name": "Python 3",
      "language": "python",
      "name": "python3"
    },
    "language_info": {
      "codemirror_mode": {
        "name": "ipython",
        "version": 3
      },
      "file_extension": ".py",
      "mimetype": "text/x-python",
      "name": "python",
      "nbconvert_exporter": "python",
      "pygments_lexer": "ipython3",
      "version": "3.8.8"
    },
    "colab": {
      "name": "textCrawler.ipynb",
      "provenance": [],
      "include_colab_link": true
    }
  },
  "cells": [
    {
      "cell_type": "markdown",
      "metadata": {
        "id": "view-in-github",
        "colab_type": "text"
      },
      "source": [
        "<a href=\"https://colab.research.google.com/github/jeochris/DL-Lecture-Study/blob/main/textCrawler.ipynb\" target=\"_parent\"><img src=\"https://colab.research.google.com/assets/colab-badge.svg\" alt=\"Open In Colab\"/></a>"
      ]
    },
    {
      "cell_type": "markdown",
      "metadata": {
        "id": "znr75LNzo8kR"
      },
      "source": [
        "# Text crawler example\n",
        "In this Python notebook we implement a text crawler through selenium\n",
        "\n",
        "For more learning tutorials, see:\n",
        "https://github.com/hyeshinoh/Study_Web"
      ]
    },
    {
      "cell_type": "code",
      "metadata": {
        "id": "CQ4Z8M5fo8kX"
      },
      "source": [
        "from selenium import webdriver\n",
        "import pandas as pd "
      ],
      "execution_count": null,
      "outputs": []
    },
    {
      "cell_type": "markdown",
      "metadata": {
        "id": "7zy3HTmeo8kZ"
      },
      "source": [
        "### 1. Set url and define webdriver (go to gmarket best page)"
      ]
    },
    {
      "cell_type": "code",
      "metadata": {
        "id": "GOMnIC2Uo8kZ"
      },
      "source": [
        "url = \"http://corners.gmarket.co.kr/Bestsellers\"\n",
        "driver = webdriver.Chrome() \n",
        "driver.get(url)\n"
      ],
      "execution_count": null,
      "outputs": []
    },
    {
      "cell_type": "markdown",
      "metadata": {
        "id": "hHSgXQfAo8ka"
      },
      "source": [
        "### 2. Specfiy html \n",
        "best-list: can be found in html source\n",
        "\n",
        "nth-child(3):selector matches every element that is the nth child, regardless of type, of its parent. n can be a number, a keyword, or a formula\n",
        "\n",
        "ul:item list with no order\n",
        "\n",
        "li:sub item list"
      ]
    },
    {
      "cell_type": "code",
      "metadata": {
        "id": "aRwUfKqyo8ka",
        "outputId": "f674bdfc-e70c-448a-d997-cc1b011f37e6"
      },
      "source": [
        "items = driver.find_elements_by_css_selector(\".best-list:nth-child(3) > ul > li\")\n",
        "\n",
        "len(items)"
      ],
      "execution_count": null,
      "outputs": [
        {
          "data": {
            "text/plain": [
              "200"
            ]
          },
          "execution_count": 3,
          "metadata": {},
          "output_type": "execute_result"
        }
      ]
    },
    {
      "cell_type": "markdown",
      "metadata": {
        "id": "PbKK-pYBo8kb"
      },
      "source": [
        "### 3. Construct list \n",
        "itemname, s-price, o-price can be found in htlml source"
      ]
    },
    {
      "cell_type": "code",
      "metadata": {
        "id": "Q2YZo-s9o8kc",
        "outputId": "c2f48e9d-bab6-4325-e8ca-8607abb1db79"
      },
      "source": [
        "dict_list = []\n",
        "for item in items:\n",
        "    dict_list.append({\n",
        "        \"title\": item.find_element_by_css_selector(\".itemname\").text,\n",
        "        \"s price\": item.find_element_by_css_selector(\".s-price\").text.split(\" \")[0].replace(\",\",\"\")[:-1],\n",
        "        \"o price\": item.find_element_by_css_selector(\".o-price\").text.split(\" \")[0].replace(\",\",\"\")[:-1],\n",
        "        \"link\": item.find_element_by_css_selector(\".itemname\").get_attribute(\"href\")\n",
        "    })\n",
        "\n",
        "df = pd.DataFrame(dict_list)\n",
        "df.tail()"
      ],
      "execution_count": null,
      "outputs": [
        {
          "data": {
            "text/html": [
              "<div>\n",
              "<style scoped>\n",
              "    .dataframe tbody tr th:only-of-type {\n",
              "        vertical-align: middle;\n",
              "    }\n",
              "\n",
              "    .dataframe tbody tr th {\n",
              "        vertical-align: top;\n",
              "    }\n",
              "\n",
              "    .dataframe thead th {\n",
              "        text-align: right;\n",
              "    }\n",
              "</style>\n",
              "<table border=\"1\" class=\"dataframe\">\n",
              "  <thead>\n",
              "    <tr style=\"text-align: right;\">\n",
              "      <th></th>\n",
              "      <th>title</th>\n",
              "      <th>s price</th>\n",
              "      <th>o price</th>\n",
              "      <th>link</th>\n",
              "    </tr>\n",
              "  </thead>\n",
              "  <tbody>\n",
              "    <tr>\n",
              "      <th>195</th>\n",
              "      <td>[스파클](쿠폰적용가 8930원)스파클생수 500ml 60병(무료배송)</td>\n",
              "      <td>10400</td>\n",
              "      <td>11900</td>\n",
              "      <td>http://item.gmarket.co.kr/Item?goodscode=19176...</td>\n",
              "    </tr>\n",
              "    <tr>\n",
              "      <th>196</th>\n",
              "      <td>[해피바스]해피바스 두보레 후리지아 에센스비누 20개</td>\n",
              "      <td>12900</td>\n",
              "      <td>15900</td>\n",
              "      <td>http://item.gmarket.co.kr/Item?goodscode=20522...</td>\n",
              "    </tr>\n",
              "    <tr>\n",
              "      <th>197</th>\n",
              "      <td>[닥터리브]닥터리브 곤약젤리 150ml 10팩(4+1)(행사)</td>\n",
              "      <td>7830</td>\n",
              "      <td>7900</td>\n",
              "      <td>http://item.gmarket.co.kr/Item?goodscode=12557...</td>\n",
              "    </tr>\n",
              "    <tr>\n",
              "      <th>198</th>\n",
              "      <td>[설빙]설빙 미니붕어빵 팥 1kg</td>\n",
              "      <td>19170</td>\n",
              "      <td>19400</td>\n",
              "      <td>http://item.gmarket.co.kr/Item?goodscode=22604...</td>\n",
              "    </tr>\n",
              "    <tr>\n",
              "      <th>199</th>\n",
              "      <td>자연 모짜렐라 슈레드치즈 1kg+1kg /피자치즈/대용량</td>\n",
              "      <td>19900</td>\n",
              "      <td>39800</td>\n",
              "      <td>http://item.gmarket.co.kr/Item?goodscode=21042...</td>\n",
              "    </tr>\n",
              "  </tbody>\n",
              "</table>\n",
              "</div>"
            ],
            "text/plain": [
              "                                       title s price o price  \\\n",
              "195  [스파클](쿠폰적용가 8930원)스파클생수 500ml 60병(무료배송)   10400   11900   \n",
              "196            [해피바스]해피바스 두보레 후리지아 에센스비누 20개   12900   15900   \n",
              "197       [닥터리브]닥터리브 곤약젤리 150ml 10팩(4+1)(행사)    7830    7900   \n",
              "198                       [설빙]설빙 미니붕어빵 팥 1kg   19170   19400   \n",
              "199          자연 모짜렐라 슈레드치즈 1kg+1kg /피자치즈/대용량   19900   39800   \n",
              "\n",
              "                                                  link  \n",
              "195  http://item.gmarket.co.kr/Item?goodscode=19176...  \n",
              "196  http://item.gmarket.co.kr/Item?goodscode=20522...  \n",
              "197  http://item.gmarket.co.kr/Item?goodscode=12557...  \n",
              "198  http://item.gmarket.co.kr/Item?goodscode=22604...  \n",
              "199  http://item.gmarket.co.kr/Item?goodscode=21042...  "
            ]
          },
          "execution_count": 4,
          "metadata": {},
          "output_type": "execute_result"
        }
      ]
    },
    {
      "cell_type": "code",
      "metadata": {
        "id": "QDq2OiFIo8kd"
      },
      "source": [
        "is_nodata = df[\"o price\"] == \"\"\n",
        "# remove data with no o price"
      ],
      "execution_count": null,
      "outputs": []
    },
    {
      "cell_type": "code",
      "metadata": {
        "id": "e9gxXX9Co8ke",
        "outputId": "dff5dad0-646f-4d28-d585-918102a30bbb"
      },
      "source": [
        "df[\"s price\"][is_nodata]"
      ],
      "execution_count": null,
      "outputs": [
        {
          "data": {
            "text/plain": [
              "35      16900\n",
              "53      26900\n",
              "59      25900\n",
              "60      22900\n",
              "76      42900\n",
              "85      14500\n",
              "95      70700\n",
              "99      12900\n",
              "115    129000\n",
              "127     13500\n",
              "128     29900\n",
              "142     28900\n",
              "144     59000\n",
              "154     10900\n",
              "160     22900\n",
              "165     32900\n",
              "183     31000\n",
              "185    158000\n",
              "188     10900\n",
              "Name: s price, dtype: object"
            ]
          },
          "execution_count": 6,
          "metadata": {},
          "output_type": "execute_result"
        }
      ]
    },
    {
      "cell_type": "code",
      "metadata": {
        "id": "3YUBillxo8ke"
      },
      "source": [
        "driver.quit()"
      ],
      "execution_count": null,
      "outputs": []
    },
    {
      "cell_type": "code",
      "metadata": {
        "id": "iMSyJgIKo8ke"
      },
      "source": [
        ""
      ],
      "execution_count": null,
      "outputs": []
    }
  ]
}