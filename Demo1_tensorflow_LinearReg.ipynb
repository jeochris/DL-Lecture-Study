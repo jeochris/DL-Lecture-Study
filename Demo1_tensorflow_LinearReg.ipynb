{
  "nbformat": 4,
  "nbformat_minor": 0,
  "metadata": {
    "anaconda-cloud": {},
    "kernelspec": {
      "display_name": "Python 3",
      "language": "python",
      "name": "python3"
    },
    "language_info": {
      "codemirror_mode": {
        "name": "ipython",
        "version": 3
      },
      "file_extension": ".py",
      "mimetype": "text/x-python",
      "name": "python",
      "nbconvert_exporter": "python",
      "pygments_lexer": "ipython3",
      "version": "3.8.5"
    },
    "colab": {
      "name": "Demo1_tensorflow_LinearReg.ipynb",
      "provenance": [],
      "include_colab_link": true
    }
  },
  "cells": [
    {
      "cell_type": "markdown",
      "metadata": {
        "id": "view-in-github",
        "colab_type": "text"
      },
      "source": [
        "<a href=\"https://colab.research.google.com/github/jeochris/DL-Study/blob/main/Demo1_tensorflow_LinearReg.ipynb\" target=\"_parent\"><img src=\"https://colab.research.google.com/assets/colab-badge.svg\" alt=\"Open In Colab\"/></a>"
      ]
    },
    {
      "cell_type": "code",
      "metadata": {
        "id": "uJTKhzgYodf4",
        "outputId": "db0022c4-3aeb-4685-ef90-36b5adda1154"
      },
      "source": [
        "from platform import python_version\n",
        "\n",
        "print(python_version())"
      ],
      "execution_count": null,
      "outputs": [
        {
          "name": "stdout",
          "output_type": "stream",
          "text": [
            "3.8.3\n"
          ]
        }
      ]
    },
    {
      "cell_type": "code",
      "metadata": {
        "id": "Q2uh8b9rsaWv"
      },
      "source": [
        "from google.colab import drive\n",
        "drive.mount('/content/drive')"
      ],
      "execution_count": null,
      "outputs": []
    },
    {
      "cell_type": "code",
      "metadata": {
        "id": "fUq9nHn7odgB"
      },
      "source": [
        "# Example 1: Linear Regression\n",
        "# 1.1 Importing tensorflow and other libraries.\n",
        "import tensorflow as tf\n",
        "import numpy as np\n",
        "\n",
        "%matplotlib inline\n",
        "import pylab"
      ],
      "execution_count": null,
      "outputs": []
    },
    {
      "cell_type": "code",
      "metadata": {
        "id": "n7uI2BkBodgC",
        "outputId": "cee8cb8a-4534-4064-be9f-f3e2066b7dd6"
      },
      "source": [
        "# 1.2 Creating input data using NumPy. y = x * 0.3 + 0.5 + noise\n",
        "x_data = np.random.rand(100).astype(np.float32)\n",
        "noise = np.random.normal(scale=0.01, size=len(x_data))\n",
        "print(x_data)\n",
        "y_data = 0.3 * x_data + 0.5 + noise\n",
        "\n",
        "pylab.plot(x_data, y_data, '.')"
      ],
      "execution_count": null,
      "outputs": [
        {
          "name": "stdout",
          "output_type": "stream",
          "text": [
            "[1.0435413e-01 4.6034902e-01 2.4801269e-01 5.4228675e-01 2.6917958e-01\n",
            " 1.7835075e-01 5.0097555e-01 4.2145796e-02 4.6714344e-03 7.1284550e-01\n",
            " 4.3231553e-01 2.1137920e-01 3.8617906e-01 9.2192477e-01 2.4539059e-01\n",
            " 1.4302139e-01 8.9561087e-01 7.8969359e-01 1.1559345e-02 6.5079474e-01\n",
            " 7.1176670e-02 5.0604147e-01 7.4600857e-01 8.5831893e-04 5.4963153e-02\n",
            " 5.0429434e-01 4.9350131e-01 3.6951751e-01 4.5162159e-01 3.5369318e-02\n",
            " 4.5525152e-02 7.7983493e-01 4.1728267e-01 6.7523187e-01 7.8212625e-01\n",
            " 3.1683442e-01 6.0897034e-01 9.0235227e-01 4.1036507e-01 1.3978064e-01\n",
            " 6.4654344e-01 1.1423544e-02 1.3331442e-01 5.1332384e-01 7.2238451e-01\n",
            " 7.5021476e-01 5.6679063e-02 7.3551112e-01 2.4703071e-01 6.7870122e-01\n",
            " 4.2629845e-02 1.4989302e-01 2.9565516e-01 3.8462747e-02 4.4551483e-01\n",
            " 2.5638404e-01 8.9743900e-01 1.6377461e-01 5.2217826e-02 3.6913007e-01\n",
            " 1.8436366e-01 9.1540807e-01 5.7484829e-01 7.7495736e-01 8.4653533e-01\n",
            " 8.1768477e-01 2.4490805e-01 6.9034129e-01 7.7944183e-01 6.3696986e-01\n",
            " 8.7204498e-01 3.4313226e-01 9.8737961e-01 9.0266645e-01 6.2698133e-02\n",
            " 4.1453245e-01 6.7715412e-01 3.0334869e-03 1.4040306e-01 1.8316393e-01\n",
            " 3.0152687e-01 4.6710125e-01 5.1749498e-01 4.8249134e-01 5.2302349e-01\n",
            " 1.3193773e-01 9.4712538e-01 4.4459602e-01 1.7805558e-01 2.9972377e-01\n",
            " 5.1640069e-01 9.2760038e-01 1.8890105e-01 2.5746748e-01 2.4421535e-01\n",
            " 3.8539842e-01 5.7197201e-01 5.0462282e-01 4.5867172e-01 4.4325632e-01]\n"
          ]
        },
        {
          "data": {
            "text/plain": [
              "[<matplotlib.lines.Line2D at 0x27fd1ce6460>]"
            ]
          },
          "execution_count": 3,
          "metadata": {},
          "output_type": "execute_result"
        },
        {
          "data": {
            "image/png": "[encoded data removed]",
            "text/plain": [
              "<Figure size 432x288 with 1 Axes>"
            ]
          },
          "metadata": {
            "needs_background": "light"
          },
          "output_type": "display_data"
        }
      ]
    },
    {
      "cell_type": "code",
      "metadata": {
        "id": "C9guIGuSodgE",
        "outputId": "b9ea53ac-3194-4cfe-dacf-8c3f4cb696e8"
      },
      "source": [
        "# 1.3 Building inference graph.\n",
        "# Create Variables W and b that compute y_data = W * x_data + b\n",
        "W = tf.Variable(tf.random.uniform([1], 0.0, 1.0))\n",
        "b = tf.Variable(tf.zeros([1]))\n",
        "y = W * x_data + b\n",
        "\n",
        "print(W)\n",
        "print(b)\n",
        "print(y)"
      ],
      "execution_count": null,
      "outputs": [
        {
          "name": "stdout",
          "output_type": "stream",
          "text": [
            "<tf.Variable 'Variable:0' shape=(1,) dtype=float32, numpy=array([0.3619157], dtype=float32)>\n",
            "<tf.Variable 'Variable:0' shape=(1,) dtype=float32, numpy=array([0.], dtype=float32)>\n",
            "tf.Tensor(\n",
            "[3.77673991e-02 1.66607544e-01 8.97596851e-02 1.96262091e-01\n",
            " 9.74203199e-02 6.45479336e-02 1.81310922e-01 1.52532253e-02\n",
            " 1.69066549e-03 2.57989973e-01 1.56461775e-01 7.65014514e-02\n",
            " 1.39764264e-01 3.33659053e-01 8.88107121e-02 5.17616868e-02\n",
            " 3.24135631e-01 2.85802513e-01 4.18350846e-03 2.35532835e-01\n",
            " 2.57599559e-02 1.83144361e-01 2.69992232e-01 3.10639094e-04\n",
            " 1.98920276e-02 1.82512045e-01 1.78605869e-01 1.33734196e-01\n",
            " 1.63448945e-01 1.28007121e-02 1.64762679e-02 2.82234520e-01\n",
            " 1.51021153e-01 2.44377017e-01 2.83063769e-01 1.14667356e-01\n",
            " 2.20395938e-01 3.26575458e-01 1.48517564e-01 5.05888090e-02\n",
            " 2.33994231e-01 4.13436024e-03 4.82485816e-02 1.85779959e-01\n",
            " 2.61442304e-01 2.71514505e-01 2.05130428e-02 2.66193032e-01\n",
            " 8.94042924e-02 2.45632634e-01 1.54284108e-02 5.42486385e-02\n",
            " 1.07002243e-01 1.39202727e-02 1.61238819e-01 9.27894115e-02\n",
            " 3.24797273e-01 5.92726022e-02 1.88984517e-02 1.33593976e-01\n",
            " 6.67241067e-02 3.31300557e-01 2.08046630e-01 2.80469239e-01\n",
            " 3.06374431e-01 2.95932949e-01 8.86360705e-02 2.49845356e-01\n",
            " 2.82092243e-01 2.30529398e-01 3.15606773e-01 1.24184951e-01\n",
            " 3.57348204e-01 3.26689154e-01 2.26914398e-02 1.50025800e-01\n",
            " 2.45072708e-01 1.09786657e-03 5.08140735e-02 6.62899017e-02\n",
            " 1.09127313e-01 1.69051275e-01 1.87289566e-01 1.74621195e-01\n",
            " 1.89290419e-01 4.77503352e-02 3.42779547e-01 1.60906285e-01\n",
            " 6.44411147e-02 1.08474739e-01 1.86893523e-01 3.35713148e-01\n",
            " 6.83662593e-02 9.31815282e-02 8.83853734e-02 1.39481738e-01\n",
            " 2.07005650e-01 1.82630926e-01 1.66000500e-01 1.60421431e-01], shape=(100,), dtype=float32)\n"
          ]
        }
      ]
    },
    {
      "cell_type": "code",
      "metadata": {
        "id": "lloPoxfjodgF"
      },
      "source": [
        "# 1.4 Defining forward function and building training graph\n",
        "def forward(x):\n",
        "    return W * x + b\n",
        "\n",
        "learning_rate=0.5\n",
        "optimizer = tf.keras.optimizers.Adam(learning_rate)\n",
        "loss_fn = tf.keras.losses.MeanSquaredError()\n",
        "\n",
        "y_initial_values = y # Save initial values for plotting later.\n",
        "\n",
        "def train_step(inputs):\n",
        "    with tf.GradientTape() as tape:\n",
        "        y_pred = forward(inputs)\n",
        "        loss = loss_fn(y_data, y_pred)\n",
        "\n",
        "    gradients = tape.gradient(loss, [W,b])\n",
        "    optimizer.apply_gradients(zip(gradients, [W,b])) #\n",
        "    return loss"
      ],
      "execution_count": null,
      "outputs": []
    },
    {
      "cell_type": "code",
      "metadata": {
        "id": "DJI5XWGGodgH",
        "outputId": "0cbc02b2-ad19-403d-c726-4b6946a92ca4"
      },
      "source": [
        "# 1.5 Performing training and check forwarded ouputs after 200th iteration\n",
        "for step in range(201):\n",
        "    loss = train_step(x_data)\n",
        "    if step % 20 == 0:\n",
        "        print(\"#%s \\t W: %s b: %s loss: %s\" % (step, W.numpy(), b.numpy(), loss.numpy()))\n",
        "print(forward(x_data))"
      ],
      "execution_count": null,
      "outputs": [
        {
          "name": "stdout",
          "output_type": "stream",
          "text": [
            "#0 \t W: [0.8619118] b: [0.4999983] loss: 0.22450554\n",
            "#20 \t W: [0.2891369] b: [0.62026435] loss: 0.020236606\n",
            "#40 \t W: [0.31607] b: [0.4890266] loss: 0.0011168433\n",
            "#60 \t W: [0.30284855] b: [0.4903048] loss: 0.0004201334\n",
            "#80 \t W: [0.29506463] b: [0.5003425] loss: 0.00010247419\n",
            "#100 \t W: [0.30211693] b: [0.50091016] loss: 9.464197e-05\n",
            "#120 \t W: [0.30253008] b: [0.49966222] loss: 8.928131e-05\n",
            "#140 \t W: [0.301788] b: [0.49937037] loss: 8.860892e-05\n",
            "#160 \t W: [0.30149823] b: [0.4993563] loss: 8.85222e-05\n",
            "#180 \t W: [0.30155116] b: [0.49946767] loss: 8.852006e-05\n",
            "#200 \t W: [0.3015269] b: [0.49944377] loss: 8.851984e-05\n",
            "tf.Tensor(\n",
            "[0.53090936 0.63825136 0.57422626 0.6629578  0.58060867 0.55322134\n",
            " 0.6505014  0.51215184 0.50085235 0.71438587 0.62979853 0.56318027\n",
            " 0.61588717 0.77742887 0.57343566 0.54256856 0.76949453 0.73755765\n",
            " 0.5029292  0.6956759  0.52090544 0.6520289  0.72438544 0.49970257\n",
            " 0.51601666 0.6515021  0.6482477  0.6108632  0.6356198  0.5101086\n",
            " 0.51317084 0.734585   0.6252657  0.70304435 0.73527586 0.59497786\n",
            " 0.6830647  0.7715273  0.6231799  0.5415914  0.694394   0.50288826\n",
            " 0.5396417  0.65422475 0.71726215 0.7256537  0.51653403 0.72122014\n",
            " 0.57393014 0.7040905  0.5122978  0.54464054 0.58859175 0.51104134\n",
            " 0.63377845 0.57675046 0.77004576 0.5488262  0.5151889  0.61074644\n",
            " 0.5550344  0.77546394 0.672776   0.73311424 0.75469697 0.7459977\n",
            " 0.5732901  0.70760024 0.73446643 0.69150734 0.7623888  0.60290736\n",
            " 0.7971653  0.771622   0.51834893 0.62443644 0.70362395 0.50035846\n",
            " 0.54177904 0.5546726  0.59036225 0.6402874  0.6554824  0.64492786\n",
            " 0.65714943 0.53922653 0.78502756 0.6335014  0.5531323  0.58981854\n",
            " 0.65515244 0.77914023 0.5564025  0.57707715 0.57308125 0.6156518\n",
            " 0.67190874 0.65160114 0.6377456  0.63309747], shape=(100,), dtype=float32)\n"
          ]
        }
      ]
    },
    {
      "cell_type": "code",
      "metadata": {
        "id": "zW42ZnY8odgI",
        "outputId": "a5b1b444-bce1-495a-e04d-e74673fc8299"
      },
      "source": [
        "# 1.6 Comparing the initial regression line with the trained values.\n",
        "pylab.plot(x_data, y_data, '.', label=\"target_values\")\n",
        "pylab.plot(x_data, y_initial_values, \".\", label=\"initial_values\")\n",
        "pylab.plot(x_data, forward(x_data), \".\", label=\"trained_values\")\n",
        "pylab.legend()\n",
        "pylab.ylim(0, 1.5)"
      ],
      "execution_count": null,
      "outputs": [
        {
          "data": {
            "text/plain": [
              "(0.0, 1.5)"
            ]
          },
          "execution_count": 7,
          "metadata": {},
          "output_type": "execute_result"
        },
        {
          "data": {
            "image/png": "[encoded data removed]",
            "text/plain": [
              "<Figure size 432x288 with 1 Axes>"
            ]
          },
          "metadata": {
            "needs_background": "light"
          },
          "output_type": "display_data"
        }
      ]
    },
    {
      "cell_type": "code",
      "metadata": {
        "id": "A6mix-luodgK"
      },
      "source": [
        ""
      ],
      "execution_count": null,
      "outputs": []
    }
  ]
}