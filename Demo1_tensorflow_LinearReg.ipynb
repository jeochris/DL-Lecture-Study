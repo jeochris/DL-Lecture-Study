{
  "nbformat": 4,
  "nbformat_minor": 0,
  "metadata": {
    "anaconda-cloud": {},
    "kernelspec": {
      "display_name": "Python 3",
      "language": "python",
      "name": "python3"
    },
    "language_info": {
      "codemirror_mode": {
        "name": "ipython",
        "version": 3
      },
      "file_extension": ".py",
      "mimetype": "text/x-python",
      "name": "python",
      "nbconvert_exporter": "python",
      "pygments_lexer": "ipython3",
      "version": "3.8.5"
    },
    "colab": {
      "name": "Demo1_tensorflow_LinearReg.ipynb",
      "provenance": [],
      "collapsed_sections": [],
      "include_colab_link": true
    }
  },
  "cells": [
    {
      "cell_type": "markdown",
      "metadata": {
        "id": "view-in-github",
        "colab_type": "text"
      },
      "source": [
        "<a href=\"https://colab.research.google.com/github/jeochris/DL-Lecture-Study/blob/main/Demo1_tensorflow_LinearReg.ipynb\" target=\"_parent\"><img src=\"https://colab.research.google.com/assets/colab-badge.svg\" alt=\"Open In Colab\"/></a>"
      ]
    },
    {
      "cell_type": "code",
      "metadata": {
        "id": "uJTKhzgYodf4",
        "colab": {
          "base_uri": "https://localhost:8080/"
        },
        "outputId": "4319267c-8fbb-434c-afdd-9758710ef2ef"
      },
      "source": [
        "from platform import python_version\n",
        "\n",
        "print(python_version())"
      ],
      "execution_count": null,
      "outputs": [
        {
          "output_type": "stream",
          "name": "stdout",
          "text": [
            "3.7.12\n"
          ]
        }
      ]
    },
    {
      "cell_type": "code",
      "metadata": {
        "id": "fUq9nHn7odgB"
      },
      "source": [
        "# Example 1: Linear Regression\n",
        "# 1.1 Importing tensorflow and other libraries.\n",
        "import tensorflow as tf\n",
        "import numpy as np\n",
        "\n",
        "%matplotlib inline\n",
        "import pylab"
      ],
      "execution_count": null,
      "outputs": []
    },
    {
      "cell_type": "markdown",
      "metadata": {
        "id": "LU9Cqug24qIS"
      },
      "source": [
        "> **Real weight = 0.3, Real bias = 0.5**\n",
        "\n",
        "* R에서 Simualting처럼 x, noise, y data 새로 생성\n",
        "* np.random.rand(100) = 0~1 사이 표준정규분포 난수 100개 list 생성\n",
        "* astype(np.float32) = float32로 형변환"
      ]
    },
    {
      "cell_type": "code",
      "metadata": {
        "id": "n7uI2BkBodgC",
        "colab": {
          "base_uri": "https://localhost:8080/",
          "height": 589
        },
        "outputId": "d708b8bf-32bc-45d7-a187-91810416065d"
      },
      "source": [
        "# 1.2 Creating input data using NumPy. y = x * 0.3 + 0.5 + noise (error)\n",
        "x_data = np.random.rand(100).astype(np.float32)\n",
        "noise = np.random.normal(scale=0.01, size=len(x_data))\n",
        "print(x_data)\n",
        "y_data = 0.3 * x_data + 0.5 + noise\n",
        "\n",
        "pylab.plot(x_data, y_data, '.')"
      ],
      "execution_count": 10,
      "outputs": [
        {
          "output_type": "stream",
          "name": "stdout",
          "text": [
            "[0.64149535 0.71783894 0.63814    0.41114652 0.0430636  0.7225532\n",
            " 0.17141372 0.8692215  0.93527085 0.43233117 0.27963972 0.77879155\n",
            " 0.89121425 0.4860412  0.79023314 0.59336454 0.7051833  0.17534792\n",
            " 0.8007412  0.9107544  0.6153457  0.5997018  0.66666186 0.48231894\n",
            " 0.64034414 0.51523125 0.13259687 0.37131003 0.1632775  0.37339488\n",
            " 0.02110081 0.7967471  0.3717     0.6792049  0.7017474  0.26990178\n",
            " 0.15951607 0.19420582 0.40392098 0.887332   0.27651078 0.52838403\n",
            " 0.7181681  0.410937   0.99655455 0.02673706 0.02628563 0.46606478\n",
            " 0.60728705 0.1093435  0.01828639 0.30165693 0.11079668 0.11888297\n",
            " 0.49069265 0.42492303 0.8158338  0.21545449 0.54407704 0.2108674\n",
            " 0.79760003 0.5884117  0.5354853  0.26558927 0.639805   0.6607136\n",
            " 0.2666745  0.00184803 0.514712   0.1544836  0.6154392  0.89743847\n",
            " 0.08112179 0.63703644 0.33313107 0.9487146  0.51040596 0.89961773\n",
            " 0.6208778  0.78006405 0.12350212 0.02770457 0.5332955  0.4750798\n",
            " 0.33073577 0.67813337 0.1529427  0.40408495 0.64382523 0.43183172\n",
            " 0.45200706 0.7072309  0.93332005 0.75132316 0.2843794  0.61888874\n",
            " 0.30429927 0.9656233  0.11277185 0.42394304]\n"
          ]
        },
        {
          "output_type": "execute_result",
          "data": {
            "text/plain": [
              "[<matplotlib.lines.Line2D at 0x7fd3d9cce0d0>]"
            ]
          },
          "metadata": {},
          "execution_count": 10
        },
        {
          "output_type": "display_data",
          "data": {
            "image/png": "[encoded data removed]",
            "text/plain": [
              "<Figure size 432x288 with 1 Axes>"
            ]
          },
          "metadata": {
            "needs_background": "light"
          }
        }
      ]
    },
    {
      "cell_type": "markdown",
      "metadata": {
        "id": "3acm0Gi_BXVe"
      },
      "source": [
        "> **Initial weight = W, Initial bias = b**\n",
        "\n",
        "* W: 0~1 사이 임의의 값, b: 0\n",
        "\n"
      ]
    },
    {
      "cell_type": "code",
      "metadata": {
        "id": "C9guIGuSodgE",
        "colab": {
          "base_uri": "https://localhost:8080/"
        },
        "outputId": "71b02b11-23bf-4e8e-cd47-eb4ca3d7ac23"
      },
      "source": [
        "# 1.3 Building inference graph.\n",
        "# Create Variables W and b that compute y_data = W * x_data + b\n",
        "W = tf.Variable(tf.random.uniform([1], 0.0, 1.0))\n",
        "b = tf.Variable(tf.zeros([1]))\n",
        "y = W * x_data + b\n",
        "\n",
        "print(W)\n",
        "print(b)\n",
        "print(y)"
      ],
      "execution_count": 11,
      "outputs": [
        {
          "output_type": "stream",
          "name": "stdout",
          "text": [
            "<tf.Variable 'Variable:0' shape=(1,) dtype=float32, numpy=array([0.02214777], dtype=float32)>\n",
            "<tf.Variable 'Variable:0' shape=(1,) dtype=float32, numpy=array([0.], dtype=float32)>\n",
            "tf.Tensor(\n",
            "[1.42076947e-02 1.58985350e-02 1.41333817e-02 9.10598040e-03\n",
            " 9.53762792e-04 1.60029456e-02 3.79643240e-03 1.92513224e-02\n",
            " 2.07141675e-02 9.57517326e-03 6.19339757e-03 1.72485001e-02\n",
            " 1.97384115e-02 1.07647311e-02 1.75019056e-02 1.31417038e-02\n",
            " 1.56182414e-02 3.88356624e-03 1.77346356e-02 2.01711822e-02\n",
            " 1.36285387e-02 1.32820606e-02 1.47650763e-02 1.06822914e-02\n",
            " 1.41821979e-02 1.14112254e-02 2.93672550e-03 8.22369102e-03\n",
            " 3.61623336e-03 8.26986600e-03 4.67336009e-04 1.76461749e-02\n",
            " 8.23232718e-03 1.50428768e-02 1.55421440e-02 5.97772375e-03\n",
            " 3.53292585e-03 4.30122670e-03 8.94595124e-03 1.96524300e-02\n",
            " 6.12409832e-03 1.17025301e-02 1.59058254e-02 9.10134055e-03\n",
            " 2.20714658e-02 5.92166325e-04 5.82168286e-04 1.03222979e-02\n",
            " 1.34500563e-02 2.42171506e-03 4.05002938e-04 6.68102968e-03\n",
            " 2.45389994e-03 2.63299327e-03 1.08677503e-02 9.41109937e-03\n",
            " 1.80689041e-02 4.77183750e-03 1.20500959e-02 4.67024371e-03\n",
            " 1.76650658e-02 1.30320098e-02 1.18598081e-02 5.88221103e-03\n",
            " 1.41702574e-02 1.46333361e-02 5.90624660e-03 4.09297900e-05\n",
            " 1.13997245e-02 3.42146796e-03 1.36306081e-02 1.98762640e-02\n",
            " 1.79666711e-03 1.41089400e-02 7.37811206e-03 2.10119169e-02\n",
            " 1.13043562e-02 1.99245308e-02 1.37510616e-02 1.72766820e-02\n",
            " 2.73529720e-03 6.13594661e-04 1.18113086e-02 1.05219604e-02\n",
            " 7.32506160e-03 1.50191449e-02 3.38734058e-03 8.94958246e-03\n",
            " 1.42592965e-02 9.56411194e-03 1.00109503e-02 1.56635903e-02\n",
            " 2.06709616e-02 1.66401360e-02 6.29837066e-03 1.37070082e-02\n",
            " 6.73955167e-03 2.13864073e-02 2.49764556e-03 9.38939489e-03], shape=(100,), dtype=float32)\n"
          ]
        }
      ]
    },
    {
      "cell_type": "markdown",
      "metadata": {
        "id": "TnQeHHlhB0a8"
      },
      "source": [
        "**Forward, Back Propagtion 진행**\n",
        "* keras.optimizers.Adam : Gradient Descent function\n",
        "* keras.losses.MeanSquaredError()\n",
        "* y_initial_values : initial weight, bias (not real)로 구한 y값 저장\n",
        "\n",
        "**train_step**\n",
        "* input = x_data\n",
        "* y_pred : 현재 W, b로 output 계산한 predicted value -> error 값 = loss"
      ]
    },
    {
      "cell_type": "code",
      "metadata": {
        "id": "lloPoxfjodgF"
      },
      "source": [
        "# 1.4 Defining forward function and building training graph\n",
        "def forward(x):\n",
        "    return W * x + b\n",
        "\n",
        "learning_rate=0.5\n",
        "optimizer = tf.keras.optimizers.Adam(learning_rate)\n",
        "loss_fn = tf.keras.losses.MeanSquaredError()\n",
        "\n",
        "y_initial_values = y # Save initial values for plotting later.\n",
        "\n",
        "def train_step(inputs):\n",
        "    with tf.GradientTape() as tape:\n",
        "        y_pred = forward(inputs)\n",
        "        loss = loss_fn(y_data, y_pred)\n",
        "\n",
        "    gradients = tape.gradient(loss, [W,b])\n",
        "    optimizer.apply_gradients(zip(gradients, [W,b])) #\n",
        "    return loss"
      ],
      "execution_count": 12,
      "outputs": []
    },
    {
      "cell_type": "markdown",
      "metadata": {
        "id": "njCjxCBeEJ1w"
      },
      "source": [
        "* Forward, Back Propagation 200번 진행\n",
        "  - loss 계속 줄어드는 것 확인\n",
        "  - W -> 0.3, b -> 0.5\n"
      ]
    },
    {
      "cell_type": "code",
      "metadata": {
        "id": "DJI5XWGGodgH",
        "colab": {
          "base_uri": "https://localhost:8080/"
        },
        "outputId": "c333d489-3ccb-415f-cf80-550e0d5c7597"
      },
      "source": [
        "# 1.5 Performing training and check forwarded ouputs after 200th iteration\n",
        "for step in range(201):\n",
        "    loss = train_step(x_data)\n",
        "    if step % 20 == 0:\n",
        "        print(\"#%s \\t W: %s b: %s loss: %s\" % (step, W.numpy(), b.numpy(), loss.numpy()))\n",
        "print(forward(x_data))"
      ],
      "execution_count": 13,
      "outputs": [
        {
          "output_type": "stream",
          "name": "stdout",
          "text": [
            "#0 \t W: [0.5221453] b: [0.4999988] loss: 0.4093293\n",
            "#20 \t W: [0.28546286] b: [0.54821664] loss: 0.0041367463\n",
            "#40 \t W: [0.29849476] b: [0.486592] loss: 0.002757802\n",
            "#60 \t W: [0.30267325] b: [0.51354814] loss: 9.899115e-05\n",
            "#80 \t W: [0.30124465] b: [0.5031414] loss: 0.00016697236\n",
            "#100 \t W: [0.2954586] b: [0.50131345] loss: 0.00010639904\n",
            "#120 \t W: [0.29702064] b: [0.50144535] loss: 9.6861775e-05\n",
            "#140 \t W: [0.29737017] b: [0.502053] loss: 9.673236e-05\n",
            "#160 \t W: [0.29717302] b: [0.5019312] loss: 9.658843e-05\n",
            "#180 \t W: [0.29715306] b: [0.5018514] loss: 9.6586125e-05\n",
            "#200 \t W: [0.29713094] b: [0.50183475] loss: 9.6586155e-05\n",
            "tf.Tensor(\n",
            "[0.6924429  0.71512693 0.6914459  0.6239991  0.51463026 0.71652764\n",
            " 0.5527671  0.7601074  0.77973264 0.6302937  0.58492434 0.7332378\n",
            " 0.7666421  0.64625263 0.7366375  0.6781417  0.71136653 0.55393606\n",
            " 0.73975974 0.77244806 0.684673   0.68002474 0.6999206  0.6451466\n",
            " 0.6921008  0.6549259  0.54123336 0.6121625  0.55034953 0.61278194\n",
            " 0.50810444 0.73857296 0.61227834 0.70364755 0.7103456  0.5820309\n",
            " 0.5492319  0.5595393  0.62185216 0.76548856 0.5839946  0.658834\n",
            " 0.71522474 0.62393683 0.7979419  0.50977916 0.50964504 0.640317\n",
            " 0.6822785  0.5343241  0.5072682  0.59146637 0.5347559  0.53715855\n",
            " 0.64763474 0.6280925  0.7442442  0.56585294 0.66349685 0.56448996\n",
            " 0.7388264  0.6766701  0.660944   0.5807495  0.6919406  0.6981532\n",
            " 0.581072   0.5023838  0.6547716  0.5477366  0.6847008  0.7684915\n",
            " 0.5259386  0.691118   0.6008183  0.7837272  0.65349215 0.76913905\n",
            " 0.6863167  0.73361593 0.53853106 0.5100666  0.66029334 0.64299566\n",
            " 0.6001066  0.70332915 0.54727876 0.6219009  0.69313514 0.6301453\n",
            " 0.63614005 0.711975   0.779153   0.7250761  0.5863327  0.68572575\n",
            " 0.5922515  0.7887513  0.53534275 0.62780136], shape=(100,), dtype=float32)\n"
          ]
        }
      ]
    },
    {
      "cell_type": "markdown",
      "metadata": {
        "id": "apTyx5YHGiUS"
      },
      "source": [
        "Target values and Trained values very similar now"
      ]
    },
    {
      "cell_type": "code",
      "metadata": {
        "id": "zW42ZnY8odgI",
        "colab": {
          "base_uri": "https://localhost:8080/",
          "height": 283
        },
        "outputId": "389c1051-a352-4396-e659-bb81416c5126"
      },
      "source": [
        "# 1.6 Comparing the initial regression line with the trained values.\n",
        "pylab.plot(x_data, y_data, '.', label=\"target_values\")\n",
        "pylab.plot(x_data, y_initial_values, \".\", label=\"initial_values\")\n",
        "pylab.plot(x_data, forward(x_data), \".\", label=\"trained_values\")\n",
        "pylab.legend()\n",
        "pylab.ylim(0, 1.5)"
      ],
      "execution_count": 14,
      "outputs": [
        {
          "output_type": "execute_result",
          "data": {
            "text/plain": [
              "(0.0, 1.5)"
            ]
          },
          "metadata": {},
          "execution_count": 14
        },
        {
          "output_type": "display_data",
          "data": {
            "image/png": "[encoded data removed]",
            "text/plain": [
              "<Figure size 432x288 with 1 Axes>"
            ]
          },
          "metadata": {
            "needs_background": "light"
          }
        }
      ]
    },
    {
      "cell_type": "code",
      "metadata": {
        "id": "A6mix-luodgK"
      },
      "source": [
        ""
      ],
      "execution_count": null,
      "outputs": []
    }
  ]
}