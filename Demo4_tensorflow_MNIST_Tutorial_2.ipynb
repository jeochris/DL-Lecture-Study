{
  "nbformat": 4,
  "nbformat_minor": 0,
  "metadata": {
    "kernelspec": {
      "display_name": "Python 3",
      "language": "python",
      "name": "python3"
    },
    "language_info": {
      "codemirror_mode": {
        "name": "ipython",
        "version": 3
      },
      "file_extension": ".py",
      "mimetype": "text/x-python",
      "name": "python",
      "nbconvert_exporter": "python",
      "pygments_lexer": "ipython3",
      "version": "3.8.5"
    },
    "colab": {
      "name": "Demo4_tensorflow_MNIST_Tutorial 2.ipynb",
      "provenance": [],
      "collapsed_sections": [
        "k46hgfbWGvX7",
        "u-cf1NLvGvX_",
        "DscJFJqkGvYA",
        "gky0h14eGvYD",
        "b5cKboUGGvYE",
        "Q37WiNwOGvYE"
      ],
      "include_colab_link": true
    }
  },
  "cells": [
    {
      "cell_type": "markdown",
      "metadata": {
        "id": "view-in-github",
        "colab_type": "text"
      },
      "source": [
        "<a href=\"https://colab.research.google.com/github/jeochris/DL-Lecture-Study/blob/main/Demo4_tensorflow_MNIST_Tutorial_2.ipynb\" target=\"_parent\"><img src=\"https://colab.research.google.com/assets/colab-badge.svg\" alt=\"Open In Colab\"/></a>"
      ]
    },
    {
      "cell_type": "code",
      "metadata": {
        "id": "zfGyspV0GvX5"
      },
      "source": [
        "import os\n",
        "os.environ['TF_CPP_MIN_LOG_LEVEL'] = '3'"
      ],
      "execution_count": null,
      "outputs": []
    },
    {
      "cell_type": "markdown",
      "metadata": {
        "id": "k46hgfbWGvX7"
      },
      "source": [
        "# CNN case for MNIST"
      ]
    },
    {
      "cell_type": "markdown",
      "metadata": {
        "id": "B7YGJWYfGvX8"
      },
      "source": [
        "# Loading MNIST training data\n"
      ]
    },
    {
      "cell_type": "code",
      "metadata": {
        "colab": {
          "base_uri": "https://localhost:8080/"
        },
        "id": "j721cixmGvX9",
        "outputId": "491ed030-446b-4a2a-9c55-921d966a4fa2"
      },
      "source": [
        "# Import tensorflow\n",
        "import tensorflow as tf\n",
        "from tensorflow.keras import layers, Model, models\n",
        "\n",
        "# Import dataset\n",
        "mnist = tf.keras.datasets.mnist\n",
        "(x_train, y_train), (x_test, y_test) = mnist.load_data()\n",
        "\n",
        "# Scaling\n",
        "x_train, x_test = x_train / 255.0, x_test / 255.0\n",
        "\n",
        "# Reshaping\n",
        "x_train = x_train[..., tf.newaxis]\n",
        "x_test = x_test[..., tf.newaxis]"
      ],
      "execution_count": null,
      "outputs": [
        {
          "output_type": "stream",
          "name": "stdout",
          "text": [
            "Downloading data from https://storage.googleapis.com/tensorflow/tf-keras-datasets/mnist.npz\n",
            "11493376/11490434 [==============================] - 0s 0us/step\n",
            "11501568/11490434 [==============================] - 0s 0us/step\n"
          ]
        }
      ]
    },
    {
      "cell_type": "code",
      "metadata": {
        "id": "pDE8qw_OGvX-"
      },
      "source": [
        "# Create batches\n",
        "train_ds = tf.data.Dataset.from_tensor_slices(\n",
        "    (x_train, y_train)).shuffle(10000).batch(32)\n",
        "test_ds = tf.data.Dataset.from_tensor_slices((x_test, y_test)).batch(32)"
      ],
      "execution_count": null,
      "outputs": []
    },
    {
      "cell_type": "markdown",
      "metadata": {
        "id": "XdtO3niEGvX-"
      },
      "source": [
        "# Build a Multilayer Convolutional Network\n",
        "\n",
        "Getting 90% accuracy on MNIST is bad. It's almost embarrassingly bad. In this section, we'll fix that, jumping from a very simple model to something moderately sophisticated: a small convolutional neural network. This will get us to around 99% accuracy -- not state of the art, but respectable."
      ]
    },
    {
      "cell_type": "markdown",
      "metadata": {
        "id": "u-cf1NLvGvX_"
      },
      "source": [
        "## Weight & Biases Initialization\n",
        "\n",
        "To create this model, we're going to need to create a lot of weights and biases. One should generally initialize weights with a small amount of noise for symmetry breaking, and to prevent 0 gradients. Since we're using ReLU neurons, it is also good practice to initialize them with a slightly positive initial bias to avoid \"dead neurons.\" Instead of doing this repeatedly while we build the model, let's create two handy functions to do it for us."
      ]
    },
    {
      "cell_type": "markdown",
      "metadata": {
        "id": "DscJFJqkGvYA"
      },
      "source": [
        "## Convolution & Pooling\n",
        "\n",
        "TensorFlow also gives us a lot of flexibility in convolution and pooling operations. How do we handle the boundaries? What is our stride size? In this example, we're always going to choose the vanilla version. Our convolutions uses a stride of one and are zero padded so that the output is the same size as the input.\n",
        "\n",
        "![](http://deeplearning.stanford.edu/wiki/images/6/6c/Convolution_schematic.gif)\n",
        "\n",
        "http://deeplearning.stanford.edu/wiki/index.php/Feature_extraction_using_convolution\n",
        "\n",
        "Our pooling is plain old max pooling over 2x2 blocks. To keep our code cleaner, let's also abstract those operations into functions.\n",
        "\n",
        "![](http://www.wildml.com/wp-content/uploads/2015/11/Screen-Shot-2015-11-05-at-2.18.38-PM.png)\n",
        "\n",
        "![](http://colah.github.io/posts/2014-07-Conv-Nets-Modular/img/Conv-9-Conv2Max2Conv2.png)\n",
        "\n",
        "http://colah.github.io/posts/2014-07-Conv-Nets-Modular/"
      ]
    },
    {
      "cell_type": "markdown",
      "metadata": {
        "id": "xJ_qI3COGvYB"
      },
      "source": [
        "## First Convolutional Layer\n",
        "\n",
        "We can now implement our first layer. It will consist of convolution, followed by max pooling. The convolutional will compute 32 features for each 5x5 patch. Its weight tensor will have a shape of [5, 5, 1, 32]. The first two dimensions are the patch size, the next is the number of input channels, and the last is the number of output channels. We will also have a bias vector with a component for each output channel."
      ]
    },
    {
      "cell_type": "markdown",
      "metadata": {
        "id": "cwSE_r0RGvYC"
      },
      "source": [
        "To apply the layer, we first reshape x to a 4d tensor, with the second and third dimensions corresponding to image width and height, and the final dimension corresponding to the number of color channels. Then scale x(pixel values) to [0,1]."
      ]
    },
    {
      "cell_type": "markdown",
      "metadata": {
        "id": "9Q_YJkhkGvYD"
      },
      "source": [
        "We then convolve train_image with the weight tensor, add the bias, apply the ReLU function, and finally max pool."
      ]
    },
    {
      "cell_type": "markdown",
      "metadata": {
        "id": "gky0h14eGvYD"
      },
      "source": [
        "## Second Convolutional Layer\n",
        "\n",
        "In order to build a deep network, we stack several layers of this type. The second layer will have 64 features for each 5x5 patch."
      ]
    },
    {
      "cell_type": "markdown",
      "metadata": {
        "id": "GnsYXHHbGvYD"
      },
      "source": [
        "## Flatten Layer = Flatten all of matrix elements to a single vector"
      ]
    },
    {
      "cell_type": "markdown",
      "metadata": {
        "id": "4DxhVkSlGvYE"
      },
      "source": [
        "Flattens the input, not affecting the batch size."
      ]
    },
    {
      "cell_type": "markdown",
      "metadata": {
        "id": "0Wg4qy2rGvYE"
      },
      "source": [
        "## Densely Connected Layer\n",
        "\n",
        "Now that the image size has been reduced to 7x7, we add a fully-connected layer with 1024 neurons to allow processing on the entire image. We reshape the tensor from the pooling layer into a batch of vectors, multiply by a weight matrix, add a bias, and apply a ReLU."
      ]
    },
    {
      "cell_type": "markdown",
      "metadata": {
        "id": "b5cKboUGGvYE"
      },
      "source": [
        "### Dropout\n",
        "\n",
        "To reduce overfitting, we will apply dropout before the readout layer. We create a placeholder for the probability that a neuron's output is kept during dropout. This allows us to turn dropout on during training, and turn it off during testing. TensorFlow's tf.nn.dropout op automatically handles scaling neuron outputs in addition to masking them, so dropout just works without any additional scaling."
      ]
    },
    {
      "cell_type": "markdown",
      "metadata": {
        "id": "Q37WiNwOGvYE"
      },
      "source": [
        "## Readout Layer\n",
        "\n",
        "Finally, we add a dense layer with softmax activation, just like for the one layer softmax regression."
      ]
    },
    {
      "cell_type": "markdown",
      "metadata": {
        "id": "WIUjZsRYGvYF"
      },
      "source": [
        "# Functional API"
      ]
    },
    {
      "cell_type": "markdown",
      "metadata": {
        "id": "6MbzUkzxGvYF"
      },
      "source": [
        "In demo3, we learned how to build a model by sequential method. In this example, we are going to construct our own model by functional API method. The functional API is more flexible than the sequential method. The functional API can handle models with non-linear topology, shared layers, and even multiple inputs or outputs. (https://keras.io/guides/functional_api/ for more info). By subclassing the Model class: in that case, you should define your layers in __init__ and you should implement the model's forward pass in **call**."
      ]
    },
    {
      "cell_type": "code",
      "metadata": {
        "id": "EV_PgxPZGvYF"
      },
      "source": [
        "class MyModel(Model):\n",
        "    \"\"\"\n",
        "    define your own model\n",
        "    \"\"\"\n",
        "    def __init__(self):# should not change here\n",
        "        \"\"\"\n",
        "        define layers with customized options\n",
        "        all variables should have prefix \"self.\" to be implemented in 'call'\n",
        "        \"\"\"\n",
        "        super(MyModel, self).__init__() # should not change here\n",
        "        # change layers below to build your own\n",
        "        self.conv1 = layers.Conv2D(32, (5, 5), activation='relu') # extract 32 features, each 5*5 size filter (keras - stride (default 1), padding (default no) option)\n",
        "        self.conv2 = layers.Conv2D(64, (5, 5), activation='relu')\n",
        "        self.maxpool = layers.MaxPooling2D((2, 2)) # also can put stride, padding option (default stride = pool size)\n",
        "        self.flatten = layers.Flatten()\n",
        "        self.d1 = layers.Dense(1024, activation='relu')\n",
        "        self.d2 = layers.Dense(10, activation='softmax') # output layer dim=10 (0~9)\n",
        "        self.dropout = layers.Dropout(0.2) # avoid overfit (like lasso, ridge)\n",
        "\n",
        "    def call(self, x):# should not change here\n",
        "        \"\"\"\n",
        "        stack up layers defined in '__init__'\n",
        "        \"\"\"\n",
        "        # change orders/ add functions\n",
        "\n",
        "        # calculate dimension in each layer\n",
        "        # 1. 28*28 originally\n",
        "        x = self.conv1(x) # 2. (28-5+0)/1 + 1 = 24*24 & 32개\n",
        "        x = self.maxpool(x) # 3. (24-2+0)/2 + 1 = 12*12 & 32개 \n",
        "        x = self.conv2(x) # 4. (12-5+0)/1 + 1 = 8*8 & 64개 (주의: 32*64 아님!)\n",
        "        x = self.maxpool(x) # 5. 4*4 & 64개 => 이거 어떻게 나올지 생각하면서 init에서 layer 구성!\n",
        "        x = self.flatten(x) # 6. 4*4*64=1024 by 1 vector -> reason why d1 was made 1024\n",
        "        x = self.d1(x)\n",
        "        x = self.dropout(x)\n",
        "        return self.d2(x) \n",
        "\n",
        "model = MyModel()"
      ],
      "execution_count": 4,
      "outputs": []
    },
    {
      "cell_type": "markdown",
      "metadata": {
        "id": "PCfuJSQXGvYG"
      },
      "source": [
        "We can also define customized loss/optim/accuracy function."
      ]
    },
    {
      "cell_type": "code",
      "metadata": {
        "id": "9S1GLtvpGvYG"
      },
      "source": [
        "loss_object = tf.keras.losses.SparseCategoricalCrossentropy()\n",
        "optimizer = tf.keras.optimizers.Adam() # for gradient descent"
      ],
      "execution_count": 7,
      "outputs": []
    },
    {
      "cell_type": "code",
      "metadata": {
        "id": "BpN3RiAgGvYG"
      },
      "source": [
        "train_loss = tf.keras.metrics.Mean(name='train_loss')\n",
        "train_accuracy = tf.keras.metrics.SparseCategoricalAccuracy(name='train_accuracy')\n",
        "\n",
        "test_loss = tf.keras.metrics.Mean(name='test_loss')\n",
        "test_accuracy = tf.keras.metrics.SparseCategoricalAccuracy(name='test_accuracy')"
      ],
      "execution_count": 6,
      "outputs": []
    },
    {
      "cell_type": "markdown",
      "metadata": {
        "id": "Su8RCnSbGvYG"
      },
      "source": [
        "## Train and Evaluate the Model\n",
        "\n",
        "How well does this model do? \n"
      ]
    },
    {
      "cell_type": "code",
      "metadata": {
        "id": "AstfM_F7GvYG"
      },
      "source": [
        "@tf.function\n",
        "\n",
        "# estimate weight parameter of convolutional layer or densely connected layer (forward, backprop)\n",
        "def train_step(images, labels):\n",
        "    with tf.GradientTape() as tape:\n",
        "        predictions = model(images)\n",
        "        loss = loss_object(labels, predictions)\n",
        "    gradients = tape.gradient(loss, model.trainable_variables)\n",
        "    optimizer.apply_gradients(zip(gradients, model.trainable_variables))\n",
        "\n",
        "    train_loss(loss)\n",
        "    train_accuracy(labels, predictions)"
      ],
      "execution_count": 9,
      "outputs": []
    },
    {
      "cell_type": "code",
      "metadata": {
        "id": "uAn0cZlFGvYH"
      },
      "source": [
        "@tf.function\n",
        "\n",
        "# validation step using test data set for given fitted model\n",
        "def test_step(images, labels):\n",
        "    predictions = model(images)\n",
        "    t_loss = loss_object(labels, predictions)\n",
        "\n",
        "    test_loss(t_loss)\n",
        "    test_accuracy(labels, predictions)"
      ],
      "execution_count": 10,
      "outputs": []
    },
    {
      "cell_type": "code",
      "metadata": {
        "id": "zJYjXq4BGvYH",
        "colab": {
          "base_uri": "https://localhost:8080/"
        },
        "outputId": "acf1ba3f-57a6-4685-9828-6a77ea59ea5c"
      },
      "source": [
        "EPOCHS = 5\n",
        "\n",
        "for epoch in range(EPOCHS):\n",
        "    for images, labels in train_ds:\n",
        "        train_step(images, labels)\n",
        "\n",
        "    for test_images, test_labels in test_ds:\n",
        "        test_step(test_images, test_labels)\n",
        "\n",
        "    template = 'Epoch: {}, loss: {:.3f}, acc: {:.3f}, test loss: {:.3f}, test acc: {:.3f}'\n",
        "    print (template.format(epoch+1,\n",
        "                         train_loss.result(),\n",
        "                         train_accuracy.result()*100,\n",
        "                         test_loss.result(),\n",
        "                         test_accuracy.result()*100))"
      ],
      "execution_count": 11,
      "outputs": [
        {
          "output_type": "stream",
          "name": "stdout",
          "text": [
            "Epoch: 1, loss: 0.102, acc: 96.778, test loss: 0.043, test acc: 98.730\n",
            "Epoch: 2, loss: 0.070, acc: 97.792, test loss: 0.038, test acc: 98.885\n",
            "Epoch: 3, loss: 0.055, acc: 98.243, test loss: 0.035, test acc: 98.950\n",
            "Epoch: 4, loss: 0.046, acc: 98.525, test loss: 0.033, test acc: 99.005\n",
            "Epoch: 5, loss: 0.040, acc: 98.725, test loss: 0.032, test acc: 99.056\n"
          ]
        }
      ]
    },
    {
      "cell_type": "markdown",
      "metadata": {
        "id": "Vj4psEYpGvYI"
      },
      "source": [
        "The final test set accuracy after running this code should be approximately 99%. - **better than standard NN!**\n",
        "\n",
        "We have learned how to quickly and easily build, train, and evaluate a fairly sophisticated deep learning model using TensorFlow.\n",
        "\n",
        "1: For this small convolutional network, performance is actually nearly identical with and without dropout. Dropout is often very effective at reducing overfitting, but it is most useful when training very large neural networks."
      ]
    },
    {
      "cell_type": "markdown",
      "metadata": {
        "id": "eBuHGHl3GvYI"
      },
      "source": [
        "![](https://www.tensorflow.org/versions/master/images/mnist_tensorboard.png)"
      ]
    }
  ]
}